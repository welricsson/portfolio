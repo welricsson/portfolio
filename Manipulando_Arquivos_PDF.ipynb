{
  "nbformat": 4,
  "nbformat_minor": 0,
  "metadata": {
    "colab": {
      "name": "Manipulando Arquivos PDF",
      "provenance": [],
      "collapsed_sections": []
    },
    "kernelspec": {
      "name": "python3",
      "display_name": "Python 3"
    }
  },
  "cells": [
    {
      "cell_type": "markdown",
      "metadata": {
        "id": "ZiW5N3JAtjIz"
      },
      "source": [
        "## Biblioteca PDF Plumber\n",
        "\n",
        "É muito comum termos de lidar com arquivos no formato PDF na nossa rotina de trabalho. Criamos, editamos, acessamos e compartilhamos arquivos nesse formato, que muitas vezes, fazem parte de nossas atividades primordiais na empresa.\n",
        "\n",
        "\n",
        "<center><img width=\"30%\" src=\"https://image.freepik.com/free-vector/group-people-working-together_52683-28615.jpg\"></center>\n",
        "\n",
        "Com essa biblioteca de Python, será possível facilitar esse processo. A biblioteca [PDF Plumber](https://github.com/jsvine/pdfplumber) possui uma grande gama de funções e argumentos, e aqui nós vamos começar a nos aventurar com essas funções.\n",
        "\n",
        "Para isso, vamos precisar fazer o download do pdf de apoio que foi disponibilizado como material complementar dessa aula. Você pode upar o arquivo diretamente na aba de arquivos à esquerda do seu navegador, e acessá-lo por lá.\n",
        "\n",
        "Entretanto, vamos fazer um processo mais robusto, e nos acostumar a montar e acessar nosso Google Drive, pois esse processo vai facilitar a nossa vida quando formos lidar com mais arquivos de uma vez.\n",
        "\n",
        "Outro detalhe importante é que, nativamente, o Google Colab não possui essa biblioteca instalada, então nós precisamos instalar a mesma no nosso ambiente.\n",
        "\n",
        "Para isso, vamos utilizar o gerenciador de pacotes `pip`, e com o comando `install` vamos instalar a biblioteca.\n",
        "\n"
      ]
    },
    {
      "cell_type": "code",
      "metadata": {
        "id": "F4_oeGhjt4y8"
      },
      "source": [
        "# instalando a biblioteca\n",
        "!pip install pdfplumber -q"
      ],
      "execution_count": 17,
      "outputs": []
    },
    {
      "cell_type": "markdown",
      "metadata": {
        "id": "7x-0TWdK2JYb"
      },
      "source": [
        "Agora que a biblioteca foi instalada, basta fazer a importação, e usar.\n",
        "\n",
        "Para essa aula, precisaremos importar também a biblioteca `os` para manipular os arquivos, e o `drive` para montar e acessar nosso Google Drive."
      ]
    },
    {
      "cell_type": "code",
      "metadata": {
        "id": "DewqL6GNtUqa"
      },
      "source": [
        "# importando os pacotes necessários\n",
        "import pdfplumber\n",
        "import pandas as pd\n",
        "import os\n",
        "from google.colab import drive"
      ],
      "execution_count": 3,
      "outputs": []
    },
    {
      "cell_type": "markdown",
      "metadata": {
        "id": "qlKWfvfa2Ytr"
      },
      "source": [
        "Pronto! Agora é só montar nosso drive e buscar os arquivos."
      ]
    },
    {
      "cell_type": "code",
      "metadata": {
        "id": "SSvr3THEuDSW",
        "colab": {
          "base_uri": "https://localhost:8080/"
        },
        "outputId": "07fe0581-ae1b-4002-97fe-9940e31cc672"
      },
      "source": [
        "# montando o drive\n",
        "drive.mount('/content/gdrive')"
      ],
      "execution_count": 4,
      "outputs": [
        {
          "output_type": "stream",
          "text": [
            "Mounted at /content/gdrive\n"
          ],
          "name": "stdout"
        }
      ]
    },
    {
      "cell_type": "markdown",
      "metadata": {
        "id": "hUIKa2iH2fvd"
      },
      "source": [
        "Verificando o conteúdo do nosso drive, podemos ver que o arquivo `modelo_de_relatorio.pdf` está lá, pronto para ser usado.\n",
        "\n",
        "Vamos carregá-lo e ver como essa biblioteca funciona na prática."
      ]
    },
    {
      "cell_type": "code",
      "metadata": {
        "id": "004L1AYOuSgT",
        "colab": {
          "base_uri": "https://localhost:8080/"
        },
        "outputId": "48f6a3de-04ee-4d8a-ad4f-54c4a7ad0bb5"
      },
      "source": [
        "# verificando o conteúdo do drive\n",
        "!ls '/content/gdrive/MyDrive/datasets/pdf'"
      ],
      "execution_count": 5,
      "outputs": [
        {
          "output_type": "stream",
          "text": [
            "desempenho_da_vale_no_1t21_brl_pt.pdf\n"
          ],
          "name": "stdout"
        }
      ]
    },
    {
      "cell_type": "markdown",
      "metadata": {
        "id": "7IO7R0kl3Gva"
      },
      "source": [
        "### pdfplumber.open()\n",
        "\n",
        "Para abrir um arquivo, vamos associá-lo a uma variável, para que ele possa ser facilmente acessado depois.\n",
        "\n",
        "Utilizamos o comando `pdfplumber.open('caminho/do/meu/arquivo')` com o caminho do arquivo dentro dos parênteses, dentro de aspas, simples ou duplas."
      ]
    },
    {
      "cell_type": "code",
      "metadata": {
        "id": "hdp90dsGucY6"
      },
      "source": [
        "# abrindo o documento\n",
        "pdf = pdfplumber.open('/content/gdrive/MyDrive/datasets/pdf/desempenho_da_vale_no_1t21_brl_pt.pdf')"
      ],
      "execution_count": 6,
      "outputs": []
    },
    {
      "cell_type": "markdown",
      "metadata": {
        "id": "XFKTVq6l4Fc5"
      },
      "source": [
        "### pages\n",
        "Para acessar as páginas existentes no arquivo, utilizamos a função `pages`.\n",
        "\n",
        "Ela retorna uma lista com as páginas do arquivo."
      ]
    },
    {
      "cell_type": "code",
      "metadata": {
        "id": "gqZKbdiqusij",
        "colab": {
          "base_uri": "https://localhost:8080/"
        },
        "outputId": "981a1f00-afbb-443b-834f-85e9fe2b0479"
      },
      "source": [
        "# ver o número de páginas do pdf:\n",
        "pdf.pages[-1]"
      ],
      "execution_count": 7,
      "outputs": [
        {
          "output_type": "execute_result",
          "data": {
            "text/plain": [
              "<Page:16>"
            ]
          },
          "metadata": {
            "tags": []
          },
          "execution_count": 7
        }
      ]
    },
    {
      "cell_type": "markdown",
      "metadata": {
        "id": "djmfxiee4R72"
      },
      "source": [
        "Ao fazer qualquer manipulação, precisamos sempre identificar a página em que isso está acontecendo, mesmo que o documento possua apenas uma página.\n",
        "\n",
        "Para isso, utilizaremos a função `pages`, passando como argumento o número da página que desejamos manipular, lembrando sempre que começamos a contar a partir do 0."
      ]
    },
    {
      "cell_type": "code",
      "metadata": {
        "id": "5XJYSrMNuw5r",
        "colab": {
          "base_uri": "https://localhost:8080/"
        },
        "outputId": "49337861-115e-4cde-f9fa-117d1f2e8ff5"
      },
      "source": [
        "# selecionando os dados da primeira página\n",
        "page1 = pdf.pages[0]\n",
        "print(page1.extract_text())"
      ],
      "execution_count": 8,
      "outputs": [
        {
          "output_type": "stream",
          "text": [
            " \n",
            " \n",
            "Planta de filtragem de rejeitos no complexo de Vargem Grande, entregue em março de 2021 \n",
            "DESEMPENHO DA VALE NO \n",
            " \n",
            "1T21\n"
          ],
          "name": "stdout"
        }
      ]
    },
    {
      "cell_type": "markdown",
      "metadata": {
        "id": "RABL6kKm45HV"
      },
      "source": [
        "### metadata\n",
        "Metadados, de forma simples, são dados sobre outros dados. No nosso caso, são dados sobre o nosso arquivo, como o autor, data de criação, palavras chaves, título, etc.\n",
        "\n",
        "É possível extrair esses dados sobre nossos arquivos com facilidade usando a função `metadata` do pdfplumber."
      ]
    },
    {
      "cell_type": "code",
      "metadata": {
        "id": "ItMVvZ6ovhfZ",
        "colab": {
          "base_uri": "https://localhost:8080/"
        },
        "outputId": "fe57852d-bd33-4e93-95d2-beec73c0d047"
      },
      "source": [
        "# coletando os metadados do arquivo\n",
        "pdf.metadata"
      ],
      "execution_count": 9,
      "outputs": [
        {
          "output_type": "execute_result",
          "data": {
            "text/plain": [
              "{'Author': 'Mariano Szachtman',\n",
              " 'CreationDate': \"D:20210426222436-03'00'\",\n",
              " 'Creator': 'Microsoft® Word para Microsoft 365',\n",
              " 'ModDate': \"D:20210426222436-03'00'\",\n",
              " 'Producer': 'Microsoft® Word para Microsoft 365'}"
            ]
          },
          "metadata": {
            "tags": []
          },
          "execution_count": 9
        }
      ]
    },
    {
      "cell_type": "markdown",
      "metadata": {
        "id": "SAaBLQ7TJB61"
      },
      "source": [
        "Vamos extrair os dados da tabela contida na página 16:\n",
        "\n",
        "<center><img width=\"60%\" src=\"https://raw.githubusercontent.com/welricsson/portfolio/76af556eb28ef4995e4b7dde2d4f35a4b89ce023/images/balanco_patrimonial_vale.PNG\"></center>"
      ]
    },
    {
      "cell_type": "markdown",
      "metadata": {
        "id": "oNOiwASS509V"
      },
      "source": [
        "### extract_text()\n",
        "\n",
        "No fim das contas, estamos interessados mesmo é no conteúdo do nosso arquivo, e isso também pode ser facilmente extraído utilizando o pdfplumber, através da função `extract_text()` que funciona no nível da página.\n",
        "\n",
        "Aqui, precisamos ter extraído a página que iremos trabalhar, e vamos associar a uma variável o resultado da execução da função `extract_text()` sobre a página. Depois, é só imprimir."
      ]
    },
    {
      "cell_type": "code",
      "metadata": {
        "id": "R9r5pdRl5ROK",
        "colab": {
          "base_uri": "https://localhost:8080/",
          "height": 103
        },
        "outputId": "bde82f33-8eed-4279-8f64-c6470d0e5357"
      },
      "source": [
        "# extraindo o texto da página 16\n",
        "page16 = pdf.pages[15]\n",
        "page16Text = page16.extract_text()\n",
        "page16Text"
      ],
      "execution_count": 10,
      "outputs": [
        {
          "output_type": "execute_result",
          "data": {
            "application/vnd.google.colaboratory.intrinsic+json": {
              "type": "string"
            },
            "text/plain": [
              "' \\nBalanço patrimonial – consolidado       \\nR$ milhões  1T21  4T20  1T20 \\nAtivo       \\nCirculante  132.025  126.805  103.682 \\nNão circulante  80.996  78.623  85.231 \\nInvestimentos  10.658  10.557  11.299 \\nIntangíveis  49.343  48.309  35.852 \\nImobilizado  222.547  213.836  203.641 \\nTotal   495.569  478.130  439.705 \\nPassivo       \\nCirculante  67.379  75.838  60.186 \\nNão circulante  226.288  221.306  206.623 \\nPatrimônio líquido  201.902  180.986  172.896 \\nPatrimônio líquido dos acionistas da Vale  207.487  185.785  178.854 \\nPatrimônio líquido dos acionistas não controladores  (5.585)  (4.799)  (5.958) \\nTotal  495.569  478.130  439.705 \\n       \\n       \\n       \\n       \\n       \\n       \\n       \\n       \\n \\n \\n  16                                           \\n '"
            ]
          },
          "metadata": {
            "tags": []
          },
          "execution_count": 10
        }
      ]
    },
    {
      "cell_type": "code",
      "metadata": {
        "colab": {
          "base_uri": "https://localhost:8080/"
        },
        "id": "xuJ3JRjFXUtD",
        "outputId": "fab79914-bf01-44ab-e3b5-399085836b66"
      },
      "source": [
        "table = page16.extract_table()\n",
        "table"
      ],
      "execution_count": 11,
      "outputs": [
        {
          "output_type": "execute_result",
          "data": {
            "text/plain": [
              "[['Balanço patrimonial – consolidado', '', '', ''],\n",
              " ['R$ milhões', '1T21', '4T20', '1T20'],\n",
              " ['Ativo', '', '', ''],\n",
              " ['Circulante', '132.025', '126.805', '103.682'],\n",
              " ['Não circulante', '80.996', '78.623', '85.231'],\n",
              " ['Investimentos', '10.658', '10.557', '11.299'],\n",
              " ['Intangíveis', '49.343', '48.309', '35.852'],\n",
              " ['Imobilizado', '222.547', '213.836', '203.641'],\n",
              " ['Total', '495.569', '478.130', '439.705'],\n",
              " ['Passivo', '', '', ''],\n",
              " ['Circulante', '67.379', '75.838', '60.186'],\n",
              " ['Não circulante', '226.288', '221.306', '206.623'],\n",
              " ['Patrimônio líquido', '201.902', '180.986', '172.896'],\n",
              " ['Patrimônio líquido dos acionistas da Vale',\n",
              "  '207.487',\n",
              "  '185.785',\n",
              "  '178.854'],\n",
              " ['Patrimônio líquido dos acionistas não controladores',\n",
              "  '(5.585)',\n",
              "  '(4.799)',\n",
              "  '(5.958)'],\n",
              " ['Total', '495.569', '478.130', '439.705']]"
            ]
          },
          "metadata": {
            "tags": []
          },
          "execution_count": 11
        }
      ]
    },
    {
      "cell_type": "code",
      "metadata": {
        "colab": {
          "base_uri": "https://localhost:8080/",
          "height": 483
        },
        "id": "0fVOfnS4YmTf",
        "outputId": "f4981036-bca8-4cb0-87b4-c79f9086aa51"
      },
      "source": [
        "df = pd.DataFrame(table[2:], columns=table[1])\n",
        "df"
      ],
      "execution_count": 18,
      "outputs": [
        {
          "output_type": "execute_result",
          "data": {
            "text/html": [
              "<div>\n",
              "<style scoped>\n",
              "    .dataframe tbody tr th:only-of-type {\n",
              "        vertical-align: middle;\n",
              "    }\n",
              "\n",
              "    .dataframe tbody tr th {\n",
              "        vertical-align: top;\n",
              "    }\n",
              "\n",
              "    .dataframe thead th {\n",
              "        text-align: right;\n",
              "    }\n",
              "</style>\n",
              "<table border=\"1\" class=\"dataframe\">\n",
              "  <thead>\n",
              "    <tr style=\"text-align: right;\">\n",
              "      <th></th>\n",
              "      <th>R$ milhões</th>\n",
              "      <th>1T21</th>\n",
              "      <th>4T20</th>\n",
              "      <th>1T20</th>\n",
              "    </tr>\n",
              "  </thead>\n",
              "  <tbody>\n",
              "    <tr>\n",
              "      <th>0</th>\n",
              "      <td>Ativo</td>\n",
              "      <td></td>\n",
              "      <td></td>\n",
              "      <td></td>\n",
              "    </tr>\n",
              "    <tr>\n",
              "      <th>1</th>\n",
              "      <td>Circulante</td>\n",
              "      <td>132.025</td>\n",
              "      <td>126.805</td>\n",
              "      <td>103.682</td>\n",
              "    </tr>\n",
              "    <tr>\n",
              "      <th>2</th>\n",
              "      <td>Não circulante</td>\n",
              "      <td>80.996</td>\n",
              "      <td>78.623</td>\n",
              "      <td>85.231</td>\n",
              "    </tr>\n",
              "    <tr>\n",
              "      <th>3</th>\n",
              "      <td>Investimentos</td>\n",
              "      <td>10.658</td>\n",
              "      <td>10.557</td>\n",
              "      <td>11.299</td>\n",
              "    </tr>\n",
              "    <tr>\n",
              "      <th>4</th>\n",
              "      <td>Intangíveis</td>\n",
              "      <td>49.343</td>\n",
              "      <td>48.309</td>\n",
              "      <td>35.852</td>\n",
              "    </tr>\n",
              "    <tr>\n",
              "      <th>5</th>\n",
              "      <td>Imobilizado</td>\n",
              "      <td>222.547</td>\n",
              "      <td>213.836</td>\n",
              "      <td>203.641</td>\n",
              "    </tr>\n",
              "    <tr>\n",
              "      <th>6</th>\n",
              "      <td>Total</td>\n",
              "      <td>495.569</td>\n",
              "      <td>478.130</td>\n",
              "      <td>439.705</td>\n",
              "    </tr>\n",
              "    <tr>\n",
              "      <th>7</th>\n",
              "      <td>Passivo</td>\n",
              "      <td></td>\n",
              "      <td></td>\n",
              "      <td></td>\n",
              "    </tr>\n",
              "    <tr>\n",
              "      <th>8</th>\n",
              "      <td>Circulante</td>\n",
              "      <td>67.379</td>\n",
              "      <td>75.838</td>\n",
              "      <td>60.186</td>\n",
              "    </tr>\n",
              "    <tr>\n",
              "      <th>9</th>\n",
              "      <td>Não circulante</td>\n",
              "      <td>226.288</td>\n",
              "      <td>221.306</td>\n",
              "      <td>206.623</td>\n",
              "    </tr>\n",
              "    <tr>\n",
              "      <th>10</th>\n",
              "      <td>Patrimônio líquido</td>\n",
              "      <td>201.902</td>\n",
              "      <td>180.986</td>\n",
              "      <td>172.896</td>\n",
              "    </tr>\n",
              "    <tr>\n",
              "      <th>11</th>\n",
              "      <td>Patrimônio líquido dos acionistas da Vale</td>\n",
              "      <td>207.487</td>\n",
              "      <td>185.785</td>\n",
              "      <td>178.854</td>\n",
              "    </tr>\n",
              "    <tr>\n",
              "      <th>12</th>\n",
              "      <td>Patrimônio líquido dos acionistas não controla...</td>\n",
              "      <td>(5.585)</td>\n",
              "      <td>(4.799)</td>\n",
              "      <td>(5.958)</td>\n",
              "    </tr>\n",
              "    <tr>\n",
              "      <th>13</th>\n",
              "      <td>Total</td>\n",
              "      <td>495.569</td>\n",
              "      <td>478.130</td>\n",
              "      <td>439.705</td>\n",
              "    </tr>\n",
              "  </tbody>\n",
              "</table>\n",
              "</div>"
            ],
            "text/plain": [
              "                                           R$ milhões  ...     1T20\n",
              "0                                               Ativo  ...         \n",
              "1                                          Circulante  ...  103.682\n",
              "2                                      Não circulante  ...   85.231\n",
              "3                                       Investimentos  ...   11.299\n",
              "4                                         Intangíveis  ...   35.852\n",
              "5                                         Imobilizado  ...  203.641\n",
              "6                                               Total  ...  439.705\n",
              "7                                             Passivo  ...         \n",
              "8                                          Circulante  ...   60.186\n",
              "9                                      Não circulante  ...  206.623\n",
              "10                                 Patrimônio líquido  ...  172.896\n",
              "11          Patrimônio líquido dos acionistas da Vale  ...  178.854\n",
              "12  Patrimônio líquido dos acionistas não controla...  ...  (5.958)\n",
              "13                                              Total  ...  439.705\n",
              "\n",
              "[14 rows x 4 columns]"
            ]
          },
          "metadata": {
            "tags": []
          },
          "execution_count": 18
        }
      ]
    },
    {
      "cell_type": "code",
      "metadata": {
        "id": "HIAeAdpacCUe"
      },
      "source": [
        "df.to_excel('/content/gdrive/MyDrive/extractions/excel/desempenho_da_vale.xlsx', index=False)"
      ],
      "execution_count": 14,
      "outputs": []
    },
    {
      "cell_type": "code",
      "metadata": {
        "colab": {
          "base_uri": "https://localhost:8080/"
        },
        "id": "prqIi8o1WB7M",
        "outputId": "19e3a1b6-8631-4dec-c4d7-14cca0c50f0d"
      },
      "source": [
        "# verificando a extração do arquivo\n",
        "!ls '/content/gdrive/MyDrive/extractions/excel/'"
      ],
      "execution_count": 15,
      "outputs": [
        {
          "output_type": "stream",
          "text": [
            "desempenho_da_vale.xlsx\n"
          ],
          "name": "stdout"
        }
      ]
    },
    {
      "cell_type": "code",
      "metadata": {
        "colab": {
          "base_uri": "https://localhost:8080/",
          "height": 483
        },
        "id": "HembVLAcWkch",
        "outputId": "bff8270c-84ba-42a4-9858-094815422330"
      },
      "source": [
        "# abrindo o documento\n",
        "pd.read_excel(\"/content/gdrive/MyDrive/extractions/excel/desempenho_da_vale.xlsx\")"
      ],
      "execution_count": 16,
      "outputs": [
        {
          "output_type": "execute_result",
          "data": {
            "text/html": [
              "<div>\n",
              "<style scoped>\n",
              "    .dataframe tbody tr th:only-of-type {\n",
              "        vertical-align: middle;\n",
              "    }\n",
              "\n",
              "    .dataframe tbody tr th {\n",
              "        vertical-align: top;\n",
              "    }\n",
              "\n",
              "    .dataframe thead th {\n",
              "        text-align: right;\n",
              "    }\n",
              "</style>\n",
              "<table border=\"1\" class=\"dataframe\">\n",
              "  <thead>\n",
              "    <tr style=\"text-align: right;\">\n",
              "      <th></th>\n",
              "      <th>R$ milhões</th>\n",
              "      <th>1T21</th>\n",
              "      <th>4T20</th>\n",
              "      <th>1T20</th>\n",
              "    </tr>\n",
              "  </thead>\n",
              "  <tbody>\n",
              "    <tr>\n",
              "      <th>0</th>\n",
              "      <td>Ativo</td>\n",
              "      <td>NaN</td>\n",
              "      <td>NaN</td>\n",
              "      <td>NaN</td>\n",
              "    </tr>\n",
              "    <tr>\n",
              "      <th>1</th>\n",
              "      <td>Circulante</td>\n",
              "      <td>132.025</td>\n",
              "      <td>126.805</td>\n",
              "      <td>103.682</td>\n",
              "    </tr>\n",
              "    <tr>\n",
              "      <th>2</th>\n",
              "      <td>Não circulante</td>\n",
              "      <td>80.996</td>\n",
              "      <td>78.623</td>\n",
              "      <td>85.231</td>\n",
              "    </tr>\n",
              "    <tr>\n",
              "      <th>3</th>\n",
              "      <td>Investimentos</td>\n",
              "      <td>10.658</td>\n",
              "      <td>10.557</td>\n",
              "      <td>11.299</td>\n",
              "    </tr>\n",
              "    <tr>\n",
              "      <th>4</th>\n",
              "      <td>Intangíveis</td>\n",
              "      <td>49.343</td>\n",
              "      <td>48.309</td>\n",
              "      <td>35.852</td>\n",
              "    </tr>\n",
              "    <tr>\n",
              "      <th>5</th>\n",
              "      <td>Imobilizado</td>\n",
              "      <td>222.547</td>\n",
              "      <td>213.836</td>\n",
              "      <td>203.641</td>\n",
              "    </tr>\n",
              "    <tr>\n",
              "      <th>6</th>\n",
              "      <td>Total</td>\n",
              "      <td>495.569</td>\n",
              "      <td>478.130</td>\n",
              "      <td>439.705</td>\n",
              "    </tr>\n",
              "    <tr>\n",
              "      <th>7</th>\n",
              "      <td>Passivo</td>\n",
              "      <td>NaN</td>\n",
              "      <td>NaN</td>\n",
              "      <td>NaN</td>\n",
              "    </tr>\n",
              "    <tr>\n",
              "      <th>8</th>\n",
              "      <td>Circulante</td>\n",
              "      <td>67.379</td>\n",
              "      <td>75.838</td>\n",
              "      <td>60.186</td>\n",
              "    </tr>\n",
              "    <tr>\n",
              "      <th>9</th>\n",
              "      <td>Não circulante</td>\n",
              "      <td>226.288</td>\n",
              "      <td>221.306</td>\n",
              "      <td>206.623</td>\n",
              "    </tr>\n",
              "    <tr>\n",
              "      <th>10</th>\n",
              "      <td>Patrimônio líquido</td>\n",
              "      <td>201.902</td>\n",
              "      <td>180.986</td>\n",
              "      <td>172.896</td>\n",
              "    </tr>\n",
              "    <tr>\n",
              "      <th>11</th>\n",
              "      <td>Patrimônio líquido dos acionistas da Vale</td>\n",
              "      <td>207.487</td>\n",
              "      <td>185.785</td>\n",
              "      <td>178.854</td>\n",
              "    </tr>\n",
              "    <tr>\n",
              "      <th>12</th>\n",
              "      <td>Patrimônio líquido dos acionistas não controla...</td>\n",
              "      <td>(5.585)</td>\n",
              "      <td>(4.799)</td>\n",
              "      <td>(5.958)</td>\n",
              "    </tr>\n",
              "    <tr>\n",
              "      <th>13</th>\n",
              "      <td>Total</td>\n",
              "      <td>495.569</td>\n",
              "      <td>478.130</td>\n",
              "      <td>439.705</td>\n",
              "    </tr>\n",
              "  </tbody>\n",
              "</table>\n",
              "</div>"
            ],
            "text/plain": [
              "                                           R$ milhões  ...     1T20\n",
              "0                                               Ativo  ...      NaN\n",
              "1                                          Circulante  ...  103.682\n",
              "2                                      Não circulante  ...   85.231\n",
              "3                                       Investimentos  ...   11.299\n",
              "4                                         Intangíveis  ...   35.852\n",
              "5                                         Imobilizado  ...  203.641\n",
              "6                                               Total  ...  439.705\n",
              "7                                             Passivo  ...      NaN\n",
              "8                                          Circulante  ...   60.186\n",
              "9                                      Não circulante  ...  206.623\n",
              "10                                 Patrimônio líquido  ...  172.896\n",
              "11          Patrimônio líquido dos acionistas da Vale  ...  178.854\n",
              "12  Patrimônio líquido dos acionistas não controla...  ...  (5.958)\n",
              "13                                              Total  ...  439.705\n",
              "\n",
              "[14 rows x 4 columns]"
            ]
          },
          "metadata": {
            "tags": []
          },
          "execution_count": 16
        }
      ]
    }
  ]
}
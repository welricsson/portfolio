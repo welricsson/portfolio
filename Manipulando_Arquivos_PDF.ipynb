{
  "nbformat": 4,
  "nbformat_minor": 0,
  "metadata": {
    "colab": {
      "name": "Manipulando Arquivos PDF",
      "provenance": [],
      "collapsed_sections": [],
      "include_colab_link": true
    },
    "kernelspec": {
      "name": "python3",
      "display_name": "Python 3"
    }
  },
  "cells": [
    {
      "cell_type": "markdown",
      "metadata": {
        "id": "view-in-github",
        "colab_type": "text"
      },
      "source": [
        "<a href=\"https://colab.research.google.com/github/welricsson/portfolio/blob/master/Manipulando_Arquivos_PDF.ipynb\" target=\"_parent\"><img src=\"https://colab.research.google.com/assets/colab-badge.svg\" alt=\"Open In Colab\"/></a>"
      ]
    },
    {
      "cell_type": "markdown",
      "metadata": {
        "id": "ZiW5N3JAtjIz"
      },
      "source": [
        "## Biblioteca PDF Plumber\n",
        "\n",
        "É muito comum termos de lidar com arquivos no formato PDF na nossa rotina de trabalho. Criamos, editamos, acessamos e compartilhamos arquivos nesse formato, que muitas vezes, fazem parte de nossas atividades primordiais na empresa.\n",
        "\n",
        "<center><img width=\"30%\" src=\"https://image.freepik.com/free-vector/group-people-working-together_52683-28615.jpg\"></center>\n",
        "\n",
        "Com essa biblioteca Python, é possível facilitar esse processo. A biblioteca [PDF Plumber](https://github.com/jsvine/pdfplumber) possui uma grande gama de funções, e aqui nós vamos começar a ver algumas dessas funções.\n",
        "\n",
        "Para isso, vamos precisar de um arquivo pdf. Optei por um documento disponibilizado publicamente pela Vale que trata dos resultados trimestrais de desempenho do primeiro trimestre. O arquivo pode ser baixado diretamente no site da Vale: [Resultados Trimestrais.](http://www.vale.com/brasil/PT/investors/information-market/quarterly-results/Paginas/default.aspx) Mas, para facilitar, também deixei ele disponível no meu perfil do [GitHub](https://github.com/welricsson/datasets/blob/main/desempenho_da_vale_no_1t21_brl_pt.pdf).\n",
        "\n",
        "Vamos fazer um processo mais robusto, e nos acostumar a montar e acessar nosso Google Drive, pois esse processo vai facilitar a nossa vida quando formos lidar com mais arquivos de uma vez.\n",
        "\n",
        "Outro detalhe importante é que, nativamente, o Google Colab não possui essa biblioteca instalada, então nós precisamos instalar a mesma no nosso ambiente.\n",
        "\n",
        "Para isso, vamos utilizar o gerenciador de pacotes `pip`, e com o comando `install` vamos instalar a biblioteca.\n",
        "\n"
      ]
    },
    {
      "cell_type": "code",
      "metadata": {
        "id": "F4_oeGhjt4y8",
        "colab": {
          "base_uri": "https://localhost:8080/"
        },
        "outputId": "ccd7962a-0c3a-4546-be65-767ebbae6a9e"
      },
      "source": [
        "# instalando a biblioteca\n",
        "!pip install pdfplumber -q"
      ],
      "execution_count": 1,
      "outputs": [
        {
          "output_type": "stream",
          "text": [
            "\u001b[K     |████████████████████████████████| 45 kB 3.5 MB/s \n",
            "\u001b[K     |████████████████████████████████| 5.6 MB 12.4 MB/s \n",
            "\u001b[K     |████████████████████████████████| 138 kB 72.7 MB/s \n",
            "\u001b[K     |████████████████████████████████| 1.9 MB 33.4 MB/s \n",
            "\u001b[?25h  Building wheel for pdfplumber (setup.py) ... \u001b[?25l\u001b[?25hdone\n"
          ],
          "name": "stdout"
        }
      ]
    },
    {
      "cell_type": "markdown",
      "metadata": {
        "id": "7x-0TWdK2JYb"
      },
      "source": [
        "Agora que a biblioteca foi instalada, basta fazer a importação, e usar.\n",
        "\n",
        "Também vamos precisar importar a biblioteca `os` para manipular os arquivos, e o `drive` para montar e acessar nosso Google Drive, e a biblioteca Pandas onde iremos carregar os dados."
      ]
    },
    {
      "cell_type": "code",
      "metadata": {
        "id": "DewqL6GNtUqa"
      },
      "source": [
        "# importando os pacotes necessários\n",
        "import pdfplumber\n",
        "import os\n",
        "from google.colab import drive\n",
        "import pandas as pd"
      ],
      "execution_count": 2,
      "outputs": []
    },
    {
      "cell_type": "markdown",
      "metadata": {
        "id": "qlKWfvfa2Ytr"
      },
      "source": [
        "Pronto! Agora é só montar nosso drive e buscar os arquivos."
      ]
    },
    {
      "cell_type": "code",
      "metadata": {
        "id": "SSvr3THEuDSW",
        "colab": {
          "base_uri": "https://localhost:8080/"
        },
        "outputId": "2893b60a-bc7b-48c3-e065-eff8ebc8c8f2"
      },
      "source": [
        "# montando o drive\n",
        "drive.mount('/content/gdrive')"
      ],
      "execution_count": 3,
      "outputs": [
        {
          "output_type": "stream",
          "text": [
            "Mounted at /content/gdrive\n"
          ],
          "name": "stdout"
        }
      ]
    },
    {
      "cell_type": "markdown",
      "metadata": {
        "id": "hUIKa2iH2fvd"
      },
      "source": [
        "Verificando o conteúdo do nosso drive, podemos ver que o arquivo `desempenho_da_vale_no_1t21_brl_pt.pdf` está lá, pronto para ser usado. Vamos carregá-lo e ver como essa biblioteca funciona na prática."
      ]
    },
    {
      "cell_type": "code",
      "metadata": {
        "id": "004L1AYOuSgT",
        "colab": {
          "base_uri": "https://localhost:8080/"
        },
        "outputId": "cc1ca899-5467-494a-9407-b6e8638d052e"
      },
      "source": [
        "# verificando o conteúdo do drive\n",
        "!ls '/content/gdrive/MyDrive/datasets/pdf'"
      ],
      "execution_count": 4,
      "outputs": [
        {
          "output_type": "stream",
          "text": [
            "desempenho_da_vale_no_1t21_brl_pt.pdf\n"
          ],
          "name": "stdout"
        }
      ]
    },
    {
      "cell_type": "markdown",
      "metadata": {
        "id": "7IO7R0kl3Gva"
      },
      "source": [
        "### pdfplumber.open()\n",
        "\n",
        "Para abrir um arquivo, vamos associá-lo a uma variável, para que ele possa ser facilmente acessado depois.\n",
        "\n",
        "Utilizamos o comando `pdfplumber.open('caminho/do/meu/arquivo')` com o caminho do arquivo dentro dos parênteses, dentro de aspas, simples ou duplas."
      ]
    },
    {
      "cell_type": "code",
      "metadata": {
        "id": "hdp90dsGucY6"
      },
      "source": [
        "# abrindo o documento\n",
        "pdf = pdfplumber.open('/content/gdrive/MyDrive/datasets/pdf/desempenho_da_vale_no_1t21_brl_pt.pdf')"
      ],
      "execution_count": 5,
      "outputs": []
    },
    {
      "cell_type": "markdown",
      "metadata": {
        "id": "XFKTVq6l4Fc5"
      },
      "source": [
        "### pages\n",
        "Para acessar as páginas existentes no arquivo, utilizamos a função `pages`.\n",
        "\n",
        "Ela retorna uma lista com as páginas do arquivo."
      ]
    },
    {
      "cell_type": "code",
      "metadata": {
        "id": "gqZKbdiqusij",
        "colab": {
          "base_uri": "https://localhost:8080/"
        },
        "outputId": "0beed77c-e0b6-4c48-c355-a6cace6460e9"
      },
      "source": [
        "# ver o número de páginas do pdf:\n",
        "pdf.pages[-1]"
      ],
      "execution_count": 6,
      "outputs": [
        {
          "output_type": "execute_result",
          "data": {
            "text/plain": [
              "<Page:16>"
            ]
          },
          "metadata": {
            "tags": []
          },
          "execution_count": 6
        }
      ]
    },
    {
      "cell_type": "markdown",
      "metadata": {
        "id": "djmfxiee4R72"
      },
      "source": [
        "Ao fazer qualquer manipulação, precisamos sempre identificar a página em que isso está acontecendo, mesmo que o documento possua apenas uma página.\n",
        "\n",
        "Para isso, utilizaremos a função `pages`, passando como argumento o número da página que desejamos manipular, lembrando sempre que começamos a contar a partir do 0."
      ]
    },
    {
      "cell_type": "code",
      "metadata": {
        "id": "5XJYSrMNuw5r",
        "colab": {
          "base_uri": "https://localhost:8080/"
        },
        "outputId": "de01dec0-3b16-4571-c009-a936b34772f8"
      },
      "source": [
        "# selecionando os dados da primeira página\n",
        "page1 = pdf.pages[0]\n",
        "print(page1.extract_text())"
      ],
      "execution_count": 7,
      "outputs": [
        {
          "output_type": "stream",
          "text": [
            " \n",
            " \n",
            "Planta de filtragem de rejeitos no complexo de Vargem Grande, entregue em março de 2021 \n",
            "DESEMPENHO DA VALE NO \n",
            " \n",
            "1T21\n"
          ],
          "name": "stdout"
        }
      ]
    },
    {
      "cell_type": "markdown",
      "metadata": {
        "id": "RABL6kKm45HV"
      },
      "source": [
        "### metadata\n",
        "Metadados, de forma simples, são dados sobre outros dados. No nosso caso, são dados sobre o nosso arquivo, como o autor, data de criação, palavras chaves, título, etc.\n",
        "\n",
        "É possível extrair esses dados sobre nossos arquivos com facilidade usando a função `metadata` do pdfplumber."
      ]
    },
    {
      "cell_type": "code",
      "metadata": {
        "id": "ItMVvZ6ovhfZ",
        "colab": {
          "base_uri": "https://localhost:8080/"
        },
        "outputId": "daa3d7f5-52eb-4b94-b5f2-61451dc305b1"
      },
      "source": [
        "# coletando os metadados do arquivo\n",
        "pdf.metadata"
      ],
      "execution_count": 10,
      "outputs": [
        {
          "output_type": "execute_result",
          "data": {
            "text/plain": [
              "{'Author': 'Mariano Szachtman',\n",
              " 'CreationDate': \"D:20210426222436-03'00'\",\n",
              " 'Creator': 'Microsoft® Word para Microsoft 365',\n",
              " 'ModDate': \"D:20210426222436-03'00'\",\n",
              " 'Producer': 'Microsoft® Word para Microsoft 365'}"
            ]
          },
          "metadata": {
            "tags": []
          },
          "execution_count": 10
        }
      ]
    },
    {
      "cell_type": "markdown",
      "metadata": {
        "id": "SAaBLQ7TJB61"
      },
      "source": [
        "Vamos extrair os dados da tabela contida na página 16. Nesta página contém uma tabela como podem ver abaixo:"
      ]
    },
    {
      "cell_type": "code",
      "metadata": {
        "colab": {
          "base_uri": "https://localhost:8080/",
          "height": 448
        },
        "id": "itOKAivZQ338",
        "outputId": "8cf5d1c0-4b7b-44a6-de6f-81c331983822"
      },
      "source": [
        "from IPython.display import Image\n",
        "Image('/content/gdrive/MyDrive/datasets/images/balanco_patrimonial_vale.PNG')"
      ],
      "execution_count": 11,
      "outputs": [
        {
          "output_type": "execute_result",
          "data": {
            "image/png": "[encoded data removed]",
            "text/plain": [
              "<IPython.core.display.Image object>"
            ]
          },
          "metadata": {
            "tags": []
          },
          "execution_count": 11
        }
      ]
    },
    {
      "cell_type": "markdown",
      "metadata": {
        "id": "oNOiwASS509V"
      },
      "source": [
        "### extract_text()\n",
        "\n",
        "No fim das contas, estamos interessados mesmo é no conteúdo do nosso arquivo, e isso também pode ser facilmente extraído utilizando o pdfplumber, através da função `extract_text()` que funciona no nível da página. Com essa função é possível extrair dados de arquivos gerados com frequencia e que possuem um certo padrão e incluí-los em algum processo automatizado.\n",
        "\n",
        "Aqui, precisamos ter extraído a página que iremos trabalhar, neste caso a 16, e vamos associar a uma variável o resultado da execução da função `extract_text()` sobre a página. Depois, é só imprimir."
      ]
    },
    {
      "cell_type": "code",
      "metadata": {
        "id": "R9r5pdRl5ROK",
        "colab": {
          "base_uri": "https://localhost:8080/",
          "height": 137
        },
        "outputId": "f5ee0ebe-082d-41bf-f204-20b8303542b8"
      },
      "source": [
        "# extraindo o texto da página 16\n",
        "page16 = pdf.pages[15]\n",
        "page16Text = page16.extract_text()\n",
        "page16Text"
      ],
      "execution_count": 13,
      "outputs": [
        {
          "output_type": "execute_result",
          "data": {
            "application/vnd.google.colaboratory.intrinsic+json": {
              "type": "string"
            },
            "text/plain": [
              "' \\nBalanço patrimonial – consolidado       \\nR$ milhões  1T21  4T20  1T20 \\nAtivo       \\nCirculante  132.025  126.805  103.682 \\nNão circulante  80.996  78.623  85.231 \\nInvestimentos  10.658  10.557  11.299 \\nIntangíveis  49.343  48.309  35.852 \\nImobilizado  222.547  213.836  203.641 \\nTotal   495.569  478.130  439.705 \\nPassivo       \\nCirculante  67.379  75.838  60.186 \\nNão circulante  226.288  221.306  206.623 \\nPatrimônio líquido  201.902  180.986  172.896 \\nPatrimônio líquido dos acionistas da Vale  207.487  185.785  178.854 \\nPatrimônio líquido dos acionistas não controladores  (5.585)  (4.799)  (5.958) \\nTotal  495.569  478.130  439.705 \\n       \\n       \\n       \\n       \\n       \\n       \\n       \\n       \\n \\n \\n  16                                           \\n '"
            ]
          },
          "metadata": {
            "tags": []
          },
          "execution_count": 13
        }
      ]
    },
    {
      "cell_type": "markdown",
      "metadata": {
        "id": "h6dpiO0tkgGx"
      },
      "source": [
        "### extract_table()\n",
        "\n",
        "Com a função `extract_table` é possível extrair os dados que estão estruturados no formato de tabela. Podemos aplicar a função e guardar os dados dentro da variável `table`."
      ]
    },
    {
      "cell_type": "code",
      "metadata": {
        "colab": {
          "base_uri": "https://localhost:8080/"
        },
        "id": "xuJ3JRjFXUtD",
        "outputId": "78779370-eb32-4a76-dbbb-fee149753b0e"
      },
      "source": [
        "table = page16.extract_table()\n",
        "table"
      ],
      "execution_count": 14,
      "outputs": [
        {
          "output_type": "execute_result",
          "data": {
            "text/plain": [
              "[['Balanço patrimonial – consolidado', '', '', ''],\n",
              " ['R$ milhões', '1T21', '4T20', '1T20'],\n",
              " ['Ativo', '', '', ''],\n",
              " ['Circulante', '132.025', '126.805', '103.682'],\n",
              " ['Não circulante', '80.996', '78.623', '85.231'],\n",
              " ['Investimentos', '10.658', '10.557', '11.299'],\n",
              " ['Intangíveis', '49.343', '48.309', '35.852'],\n",
              " ['Imobilizado', '222.547', '213.836', '203.641'],\n",
              " ['Total', '495.569', '478.130', '439.705'],\n",
              " ['Passivo', '', '', ''],\n",
              " ['Circulante', '67.379', '75.838', '60.186'],\n",
              " ['Não circulante', '226.288', '221.306', '206.623'],\n",
              " ['Patrimônio líquido', '201.902', '180.986', '172.896'],\n",
              " ['Patrimônio líquido dos acionistas da Vale',\n",
              "  '207.487',\n",
              "  '185.785',\n",
              "  '178.854'],\n",
              " ['Patrimônio líquido dos acionistas não controladores',\n",
              "  '(5.585)',\n",
              "  '(4.799)',\n",
              "  '(5.958)'],\n",
              " ['Total', '495.569', '478.130', '439.705']]"
            ]
          },
          "metadata": {
            "tags": []
          },
          "execution_count": 14
        }
      ]
    },
    {
      "cell_type": "markdown",
      "metadata": {
        "id": "cvi3QtN4l-wW"
      },
      "source": [
        "Agora vamos converter os dados vindos da tabela em um DataFrame. Podemos notar que toda estrutura é mantida no mesmo padrão disposto no arquivo PDF."
      ]
    },
    {
      "cell_type": "code",
      "metadata": {
        "colab": {
          "base_uri": "https://localhost:8080/",
          "height": 483
        },
        "id": "0fVOfnS4YmTf",
        "outputId": "21862158-31de-4313-8934-3810bdd642fc"
      },
      "source": [
        "df = pd.DataFrame(table[2:], columns=table[1])\n",
        "df"
      ],
      "execution_count": 15,
      "outputs": [
        {
          "output_type": "execute_result",
          "data": {
            "text/html": [
              "<div>\n",
              "<style scoped>\n",
              "    .dataframe tbody tr th:only-of-type {\n",
              "        vertical-align: middle;\n",
              "    }\n",
              "\n",
              "    .dataframe tbody tr th {\n",
              "        vertical-align: top;\n",
              "    }\n",
              "\n",
              "    .dataframe thead th {\n",
              "        text-align: right;\n",
              "    }\n",
              "</style>\n",
              "<table border=\"1\" class=\"dataframe\">\n",
              "  <thead>\n",
              "    <tr style=\"text-align: right;\">\n",
              "      <th></th>\n",
              "      <th>R$ milhões</th>\n",
              "      <th>1T21</th>\n",
              "      <th>4T20</th>\n",
              "      <th>1T20</th>\n",
              "    </tr>\n",
              "  </thead>\n",
              "  <tbody>\n",
              "    <tr>\n",
              "      <th>0</th>\n",
              "      <td>Ativo</td>\n",
              "      <td></td>\n",
              "      <td></td>\n",
              "      <td></td>\n",
              "    </tr>\n",
              "    <tr>\n",
              "      <th>1</th>\n",
              "      <td>Circulante</td>\n",
              "      <td>132.025</td>\n",
              "      <td>126.805</td>\n",
              "      <td>103.682</td>\n",
              "    </tr>\n",
              "    <tr>\n",
              "      <th>2</th>\n",
              "      <td>Não circulante</td>\n",
              "      <td>80.996</td>\n",
              "      <td>78.623</td>\n",
              "      <td>85.231</td>\n",
              "    </tr>\n",
              "    <tr>\n",
              "      <th>3</th>\n",
              "      <td>Investimentos</td>\n",
              "      <td>10.658</td>\n",
              "      <td>10.557</td>\n",
              "      <td>11.299</td>\n",
              "    </tr>\n",
              "    <tr>\n",
              "      <th>4</th>\n",
              "      <td>Intangíveis</td>\n",
              "      <td>49.343</td>\n",
              "      <td>48.309</td>\n",
              "      <td>35.852</td>\n",
              "    </tr>\n",
              "    <tr>\n",
              "      <th>5</th>\n",
              "      <td>Imobilizado</td>\n",
              "      <td>222.547</td>\n",
              "      <td>213.836</td>\n",
              "      <td>203.641</td>\n",
              "    </tr>\n",
              "    <tr>\n",
              "      <th>6</th>\n",
              "      <td>Total</td>\n",
              "      <td>495.569</td>\n",
              "      <td>478.130</td>\n",
              "      <td>439.705</td>\n",
              "    </tr>\n",
              "    <tr>\n",
              "      <th>7</th>\n",
              "      <td>Passivo</td>\n",
              "      <td></td>\n",
              "      <td></td>\n",
              "      <td></td>\n",
              "    </tr>\n",
              "    <tr>\n",
              "      <th>8</th>\n",
              "      <td>Circulante</td>\n",
              "      <td>67.379</td>\n",
              "      <td>75.838</td>\n",
              "      <td>60.186</td>\n",
              "    </tr>\n",
              "    <tr>\n",
              "      <th>9</th>\n",
              "      <td>Não circulante</td>\n",
              "      <td>226.288</td>\n",
              "      <td>221.306</td>\n",
              "      <td>206.623</td>\n",
              "    </tr>\n",
              "    <tr>\n",
              "      <th>10</th>\n",
              "      <td>Patrimônio líquido</td>\n",
              "      <td>201.902</td>\n",
              "      <td>180.986</td>\n",
              "      <td>172.896</td>\n",
              "    </tr>\n",
              "    <tr>\n",
              "      <th>11</th>\n",
              "      <td>Patrimônio líquido dos acionistas da Vale</td>\n",
              "      <td>207.487</td>\n",
              "      <td>185.785</td>\n",
              "      <td>178.854</td>\n",
              "    </tr>\n",
              "    <tr>\n",
              "      <th>12</th>\n",
              "      <td>Patrimônio líquido dos acionistas não controla...</td>\n",
              "      <td>(5.585)</td>\n",
              "      <td>(4.799)</td>\n",
              "      <td>(5.958)</td>\n",
              "    </tr>\n",
              "    <tr>\n",
              "      <th>13</th>\n",
              "      <td>Total</td>\n",
              "      <td>495.569</td>\n",
              "      <td>478.130</td>\n",
              "      <td>439.705</td>\n",
              "    </tr>\n",
              "  </tbody>\n",
              "</table>\n",
              "</div>"
            ],
            "text/plain": [
              "                                           R$ milhões  ...     1T20\n",
              "0                                               Ativo  ...         \n",
              "1                                          Circulante  ...  103.682\n",
              "2                                      Não circulante  ...   85.231\n",
              "3                                       Investimentos  ...   11.299\n",
              "4                                         Intangíveis  ...   35.852\n",
              "5                                         Imobilizado  ...  203.641\n",
              "6                                               Total  ...  439.705\n",
              "7                                             Passivo  ...         \n",
              "8                                          Circulante  ...   60.186\n",
              "9                                      Não circulante  ...  206.623\n",
              "10                                 Patrimônio líquido  ...  172.896\n",
              "11          Patrimônio líquido dos acionistas da Vale  ...  178.854\n",
              "12  Patrimônio líquido dos acionistas não controla...  ...  (5.958)\n",
              "13                                              Total  ...  439.705\n",
              "\n",
              "[14 rows x 4 columns]"
            ]
          },
          "metadata": {
            "tags": []
          },
          "execution_count": 15
        }
      ]
    },
    {
      "cell_type": "markdown",
      "metadata": {
        "id": "3AZqYguznQo4"
      },
      "source": [
        "Agora, vamos extrair o arquivo no formato Excel e depois carrega-lo novamente para verificar se a estrutura se manteve."
      ]
    },
    {
      "cell_type": "code",
      "metadata": {
        "id": "HIAeAdpacCUe"
      },
      "source": [
        "# Extraindo arquivo Excel\n",
        "df.to_excel('/content/gdrive/MyDrive/extractions/excel/desempenho_da_vale.xlsx', index=False)"
      ],
      "execution_count": 16,
      "outputs": []
    },
    {
      "cell_type": "code",
      "metadata": {
        "colab": {
          "base_uri": "https://localhost:8080/"
        },
        "id": "prqIi8o1WB7M",
        "outputId": "6e0434f7-9fd2-40cb-e3b7-bd4be5221de0"
      },
      "source": [
        "# verificando a extração do arquivo\n",
        "!ls '/content/gdrive/MyDrive/extractions/excel/'"
      ],
      "execution_count": 17,
      "outputs": [
        {
          "output_type": "stream",
          "text": [
            "desempenho_da_vale.xlsx\n"
          ],
          "name": "stdout"
        }
      ]
    },
    {
      "cell_type": "code",
      "metadata": {
        "colab": {
          "base_uri": "https://localhost:8080/",
          "height": 483
        },
        "id": "HembVLAcWkch",
        "outputId": "e4e7a96c-8b58-4110-ad6c-8ab732071e5c"
      },
      "source": [
        "# abrindo o documento\n",
        "pd.read_excel(\"/content/gdrive/MyDrive/extractions/excel/desempenho_da_vale.xlsx\")"
      ],
      "execution_count": 18,
      "outputs": [
        {
          "output_type": "execute_result",
          "data": {
            "text/html": [
              "<div>\n",
              "<style scoped>\n",
              "    .dataframe tbody tr th:only-of-type {\n",
              "        vertical-align: middle;\n",
              "    }\n",
              "\n",
              "    .dataframe tbody tr th {\n",
              "        vertical-align: top;\n",
              "    }\n",
              "\n",
              "    .dataframe thead th {\n",
              "        text-align: right;\n",
              "    }\n",
              "</style>\n",
              "<table border=\"1\" class=\"dataframe\">\n",
              "  <thead>\n",
              "    <tr style=\"text-align: right;\">\n",
              "      <th></th>\n",
              "      <th>R$ milhões</th>\n",
              "      <th>1T21</th>\n",
              "      <th>4T20</th>\n",
              "      <th>1T20</th>\n",
              "    </tr>\n",
              "  </thead>\n",
              "  <tbody>\n",
              "    <tr>\n",
              "      <th>0</th>\n",
              "      <td>Ativo</td>\n",
              "      <td>NaN</td>\n",
              "      <td>NaN</td>\n",
              "      <td>NaN</td>\n",
              "    </tr>\n",
              "    <tr>\n",
              "      <th>1</th>\n",
              "      <td>Circulante</td>\n",
              "      <td>132.025</td>\n",
              "      <td>126.805</td>\n",
              "      <td>103.682</td>\n",
              "    </tr>\n",
              "    <tr>\n",
              "      <th>2</th>\n",
              "      <td>Não circulante</td>\n",
              "      <td>80.996</td>\n",
              "      <td>78.623</td>\n",
              "      <td>85.231</td>\n",
              "    </tr>\n",
              "    <tr>\n",
              "      <th>3</th>\n",
              "      <td>Investimentos</td>\n",
              "      <td>10.658</td>\n",
              "      <td>10.557</td>\n",
              "      <td>11.299</td>\n",
              "    </tr>\n",
              "    <tr>\n",
              "      <th>4</th>\n",
              "      <td>Intangíveis</td>\n",
              "      <td>49.343</td>\n",
              "      <td>48.309</td>\n",
              "      <td>35.852</td>\n",
              "    </tr>\n",
              "    <tr>\n",
              "      <th>5</th>\n",
              "      <td>Imobilizado</td>\n",
              "      <td>222.547</td>\n",
              "      <td>213.836</td>\n",
              "      <td>203.641</td>\n",
              "    </tr>\n",
              "    <tr>\n",
              "      <th>6</th>\n",
              "      <td>Total</td>\n",
              "      <td>495.569</td>\n",
              "      <td>478.130</td>\n",
              "      <td>439.705</td>\n",
              "    </tr>\n",
              "    <tr>\n",
              "      <th>7</th>\n",
              "      <td>Passivo</td>\n",
              "      <td>NaN</td>\n",
              "      <td>NaN</td>\n",
              "      <td>NaN</td>\n",
              "    </tr>\n",
              "    <tr>\n",
              "      <th>8</th>\n",
              "      <td>Circulante</td>\n",
              "      <td>67.379</td>\n",
              "      <td>75.838</td>\n",
              "      <td>60.186</td>\n",
              "    </tr>\n",
              "    <tr>\n",
              "      <th>9</th>\n",
              "      <td>Não circulante</td>\n",
              "      <td>226.288</td>\n",
              "      <td>221.306</td>\n",
              "      <td>206.623</td>\n",
              "    </tr>\n",
              "    <tr>\n",
              "      <th>10</th>\n",
              "      <td>Patrimônio líquido</td>\n",
              "      <td>201.902</td>\n",
              "      <td>180.986</td>\n",
              "      <td>172.896</td>\n",
              "    </tr>\n",
              "    <tr>\n",
              "      <th>11</th>\n",
              "      <td>Patrimônio líquido dos acionistas da Vale</td>\n",
              "      <td>207.487</td>\n",
              "      <td>185.785</td>\n",
              "      <td>178.854</td>\n",
              "    </tr>\n",
              "    <tr>\n",
              "      <th>12</th>\n",
              "      <td>Patrimônio líquido dos acionistas não controla...</td>\n",
              "      <td>(5.585)</td>\n",
              "      <td>(4.799)</td>\n",
              "      <td>(5.958)</td>\n",
              "    </tr>\n",
              "    <tr>\n",
              "      <th>13</th>\n",
              "      <td>Total</td>\n",
              "      <td>495.569</td>\n",
              "      <td>478.130</td>\n",
              "      <td>439.705</td>\n",
              "    </tr>\n",
              "  </tbody>\n",
              "</table>\n",
              "</div>"
            ],
            "text/plain": [
              "                                           R$ milhões  ...     1T20\n",
              "0                                               Ativo  ...      NaN\n",
              "1                                          Circulante  ...  103.682\n",
              "2                                      Não circulante  ...   85.231\n",
              "3                                       Investimentos  ...   11.299\n",
              "4                                         Intangíveis  ...   35.852\n",
              "5                                         Imobilizado  ...  203.641\n",
              "6                                               Total  ...  439.705\n",
              "7                                             Passivo  ...      NaN\n",
              "8                                          Circulante  ...   60.186\n",
              "9                                      Não circulante  ...  206.623\n",
              "10                                 Patrimônio líquido  ...  172.896\n",
              "11          Patrimônio líquido dos acionistas da Vale  ...  178.854\n",
              "12  Patrimônio líquido dos acionistas não controla...  ...  (5.958)\n",
              "13                                              Total  ...  439.705\n",
              "\n",
              "[14 rows x 4 columns]"
            ]
          },
          "metadata": {
            "tags": []
          },
          "execution_count": 18
        }
      ]
    },
    {
      "cell_type": "markdown",
      "metadata": {
        "id": "5gjD42L2nx6v"
      },
      "source": [
        "Estas são algumas das inúmeras possibilidades desta maravilhosa biblioteca de manipulação de dados em PDF. Muitas outras coisas podem ser feitas e a documentação oficial poderá nos ajudar. Espero que tenham gostado desta passagem rápida de algumas funcionalidades.\n",
        "\n",
        "Para continuar acompanhando novos projetos que irei postar futuramente, basta acompanhar o meu perfil no [GitHub](https://github.com/welricsson). Fiz um projeto de análise exploratória dos dados do [Airbnb](https://bit.ly/2LrIaI7) que está bem interessante."
      ]
    }
  ]
}
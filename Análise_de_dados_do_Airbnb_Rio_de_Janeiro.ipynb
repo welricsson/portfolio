{
  "nbformat": 4,
  "nbformat_minor": 0,
  "metadata": {
    "colab": {
      "name": "Análise de dados do Airbnb - Rio de Janeiro.ipynb",
      "provenance": [],
      "collapsed_sections": [],
      "include_colab_link": true
    },
    "kernelspec": {
      "name": "python3",
      "display_name": "Python 3"
    }
  },
  "cells": [
    {
      "cell_type": "markdown",
      "metadata": {
        "id": "view-in-github",
        "colab_type": "text"
      },
      "source": [
        "<a href=\"https://colab.research.google.com/github/welricsson/portfolio/blob/master/An%C3%A1lise_de_dados_do_Airbnb_Rio_de_Janeiro.ipynb\" target=\"_parent\"><img src=\"https://colab.research.google.com/assets/colab-badge.svg\" alt=\"Open In Colab\"/></a>"
      ]
    },
    {
      "cell_type": "markdown",
      "metadata": {
        "id": "kLI0gJtzDGuQ"
      },
      "source": [
        "<img alt=\"Colaboratory logo\" width=\"15%\" src=\"https://raw.githubusercontent.com/carlosfab/escola-data-science/master/img/novo_logo_bg_claro.png\">\n",
        "\n",
        "#### **Data Science na Prática 2.0**\n",
        "*by [sigmoidal.ai](https://sigmoidal.ai)*\n",
        "\n",
        "---\n",
        "\n",
        "# Análise dos Dados do Airbnb - *Rio de Janeiro*\n",
        "\n",
        "O [Airbnb](https://www.airbnb.com.br/) já é considerado como sendo a **maior empresa hoteleira da atualidade**, além de ser um negógio totalmente disruptivo pois ele **não possui nenhum hotel**!\n",
        "\n",
        "<center><img alt=\"Rio de Janeiro\" width=\"100%\" src=\"https://i.pinimg.com/originals/bd/d8/ec/bdd8ece31bb48c9c389a3fcf3648b511.jpg\"></center>\n",
        "\n",
        "<center><img alt=\"Analisando Airbnb\" width=\"10%\" src=\"https://www.area360.com.au/wp-content/uploads/2017/09/airbnb-logo.jpg\"></center>\n",
        "\n",
        "A análise que será realizada será referente aos dados da cidade do Rio de Janeiro. Veremos quais insights podem ser extraídos a partir dos dados brutos. O foco da análise será na qualidade dos dados e na validação da hipótese do impacto da pandemia nos preços dos imóveis."
      ]
    },
    {
      "cell_type": "markdown",
      "metadata": {
        "id": "NUEwjrnFoGpj"
      },
      "source": [
        " # Sumário <a name=\"sumario\"></a>\n",
        "1. [Introdução](#introduction)\n",
        "2. [Coleta dos dados](#paragraph1)\n",
        "3. [Análise dos dados](#paragraph2)\n",
        "    1. [Quantas variáveis e quantos registros o nosso conjunto de dados possui?](#subparagraph4)\n",
        "    2. [Qual a porcentagem de valores ausentes no *dataset*?](#subparagraph5)\n",
        "    3. [Há *outliers* presentes?](#subparagraph7)\n",
        "    4. [Qual a correlação existente entre as variáveis?](#subparagraph8)\n",
        "    5. [Qual o tipo de imóvel mais alugado no Airbnb?](#subparagraph9)\n",
        "    6. [Qual a localidade mais cara do dataset?](#subparagraph10)\n",
        "    7. [Houve impacto nos preços dos imóveis devido a pandemia?](#subparagraph11)\n",
        "4. [Conclusão](#paragraph3)"
      ]
    },
    {
      "cell_type": "markdown",
      "metadata": {
        "id": "uNRu6fiFqlic"
      },
      "source": [
        "## Introdução <a name=\"introduction\"></a>\n",
        "\n",
        "Conectando pessoas que querem viajar (e se hospedar) com anfitriões que querem alugar seus imóveis de maneira prática, o Airbnb fornece uma plataforma inovadora para tornar essa hospedagem alternativa.\n",
        "\n",
        "No final de 2018, a Startup fundada 10 anos atrás, já havia **hospedado mais de 300 milhões** de pessoas ao redor de todo o mundo, desafiando as redes hoteleiras tradicionais.\n",
        "\n",
        "Uma das iniciativas do Airbnb é disponibilizar dados do site, para algumas das principais cidades do mundo. Por meio do portal [Inside Airbnb](http://insideairbnb.com/get-the-data.html), é possível baixar uma grande quantidade de dados para desenvolver projetos e soluções de *Data Science*."
      ]
    },
    {
      "cell_type": "markdown",
      "metadata": {
        "id": "0zxQHhIUDF_2"
      },
      "source": [
        "## Coleta dos Dados <a name=\"paragraph1\"></a>\n"
      ]
    },
    {
      "cell_type": "code",
      "metadata": {
        "id": "Vhp2wMPgJ6zX"
      },
      "source": [
        "# importa os pacotes necessários\n",
        "import pandas as pd\n",
        "import matplotlib.pyplot as plt\n",
        "import seaborn as sns\n",
        "import numpy as np\n",
        "\n",
        "%matplotlib inline"
      ],
      "execution_count": null,
      "outputs": []
    },
    {
      "cell_type": "code",
      "metadata": {
        "id": "tUmoAT8DLQ5T"
      },
      "source": [
        "# importa o arquivo referente ao mês de maio para um DataFrame\n",
        "df = pd.read_csv(\"http://data.insideairbnb.com/brazil/rj/rio-de-janeiro/2020-05-24/visualisations/listings.csv\")"
      ],
      "execution_count": null,
      "outputs": []
    },
    {
      "cell_type": "markdown",
      "metadata": {
        "id": "qb5By2nIMS6m"
      },
      "source": [
        "## Análise dos Dados <a name=\"paragraph2\"></a>\n",
        "\n",
        "Nesta etapa vamos entender como os dados estão estruturados e identificar os padrões que compoem o *dataset*. Precisamos também fazer algumas validações básicas como: verificar se há duplicidade de registros, a consistência dos dados e avaliar o tipo de distribuição das variáveis."
      ]
    },
    {
      "cell_type": "markdown",
      "metadata": {
        "id": "RYgvuebKNg8-"
      },
      "source": [
        "**Dicionário das variáveis**\n",
        "\n",
        "Antes de iniciarmos qualquer análise, vamos verificar o dicionário de variáveis e as 5 primeiras entradas do dataframe para termos um panorâma geral.\n",
        "\n",
        "---\n",
        "\n",
        "|Variável        |Tipo                      \t |Descrição                         |\n",
        "|----------------|-------------------------------|-----------------------------|\n",
        "|`id` \t\t\t       \t\t\t  |int64  |Número de id gerado para identificar o imóvel\t\t  |\n",
        "|`name` \t\t\t   \t\t\t  |object |Nome da propriedade anunciada                       \t  |\n",
        "|`host_id` \t\t\t   \t\t\t  |int64  |Número de id do proprietário (anfitrião) da propriedade|\n",
        "|`host_name` \t\t   \t\t\t  |object |Nome do anfitrião                                      |\n",
        "|`neighbourhood_group` \t\t\t  |float64|Esta coluna não contém nenhum valor válido             |\n",
        "|`neighbourhood` \t   \t\t\t  |object |Nome do bairro                                      \t  |\n",
        "|`latitude` \t\t   \t\t\t  |float64|Coordenada da latitude da propriedade                  |\n",
        "|`longitude` \t\t   \t\t\t  |float64|Coordenada da longitude da propriedade                 |\n",
        "|`room_type` \t\t   \t\t\t  |object |Informa o tipo de quarto que é oferecido               |\n",
        "|`price` \t\t\t   \t\t\t  |int64  |Preço para alugar o imóvel                             |\n",
        "|`minimum_nights` \t   \t\t\t  |int64  |Quantidade mínima de noites para reservar              |\n",
        "|`number_of_reviews`   \t\t\t  |int64  |Número de reviews que a propriedade possui             |\n",
        "|`last_review` \t\t   \t\t\t  |object |Data do último review                                  |\n",
        "|`reviews_per_month`   \t\t\t  |float64|Quantidade de reviews por mês                          |\n",
        "|`calculated_host_listings_count` |int64  |Quantidade de imóveis do mesmo anfitrião               |\n",
        "|`availability_365`    \t\t\t  |int64  |Número de dias de disponibilidade dentro de 365 dias   |\n",
        "\n",
        "> Os dados do dicionário, com exceção da descrição, foram obtidos a partir do comando `display(df.dtypes)`.\n"
      ]
    },
    {
      "cell_type": "code",
      "metadata": {
        "id": "2iS_dae7YQtO",
        "colab": {
          "base_uri": "https://localhost:8080/",
          "height": 547
        },
        "outputId": "37b17843-f1c5-480a-c594-965cb44a7ad9"
      },
      "source": [
        "# verificando as dimensões\n",
        "print('Dimensões do Dataset',\n",
        "    '\\nVariáveis:   ',df.shape[1], \"\\n\"\n",
        "      'Entradas: ', df.shape[0])\n",
        "\n",
        "# verificando as 5 primeiras entradas\n",
        "df.head()"
      ],
      "execution_count": null,
      "outputs": [
        {
          "output_type": "stream",
          "text": [
            "Dimensões do Dataset \n",
            "Variáveis:    16 \n",
            "Entradas:  35793\n"
          ],
          "name": "stdout"
        },
        {
          "output_type": "execute_result",
          "data": {
            "text/html": [
              "<div>\n",
              "<style scoped>\n",
              "    .dataframe tbody tr th:only-of-type {\n",
              "        vertical-align: middle;\n",
              "    }\n",
              "\n",
              "    .dataframe tbody tr th {\n",
              "        vertical-align: top;\n",
              "    }\n",
              "\n",
              "    .dataframe thead th {\n",
              "        text-align: right;\n",
              "    }\n",
              "</style>\n",
              "<table border=\"1\" class=\"dataframe\">\n",
              "  <thead>\n",
              "    <tr style=\"text-align: right;\">\n",
              "      <th></th>\n",
              "      <th>id</th>\n",
              "      <th>name</th>\n",
              "      <th>host_id</th>\n",
              "      <th>host_name</th>\n",
              "      <th>neighbourhood_group</th>\n",
              "      <th>neighbourhood</th>\n",
              "      <th>latitude</th>\n",
              "      <th>longitude</th>\n",
              "      <th>room_type</th>\n",
              "      <th>price</th>\n",
              "      <th>minimum_nights</th>\n",
              "      <th>number_of_reviews</th>\n",
              "      <th>last_review</th>\n",
              "      <th>reviews_per_month</th>\n",
              "      <th>calculated_host_listings_count</th>\n",
              "      <th>availability_365</th>\n",
              "    </tr>\n",
              "  </thead>\n",
              "  <tbody>\n",
              "    <tr>\n",
              "      <th>0</th>\n",
              "      <td>17878</td>\n",
              "      <td>Very Nice 2Br in Copacabana w. balcony, fast WiFi</td>\n",
              "      <td>68997</td>\n",
              "      <td>Matthias</td>\n",
              "      <td>NaN</td>\n",
              "      <td>Copacabana</td>\n",
              "      <td>-22.96592</td>\n",
              "      <td>-43.17896</td>\n",
              "      <td>Entire home/apt</td>\n",
              "      <td>188</td>\n",
              "      <td>7</td>\n",
              "      <td>251</td>\n",
              "      <td>2020-04-06</td>\n",
              "      <td>2.09</td>\n",
              "      <td>1</td>\n",
              "      <td>335</td>\n",
              "    </tr>\n",
              "    <tr>\n",
              "      <th>1</th>\n",
              "      <td>21280</td>\n",
              "      <td>Renovated Modern Apt. Near Beach</td>\n",
              "      <td>81163</td>\n",
              "      <td>Jules</td>\n",
              "      <td>NaN</td>\n",
              "      <td>Ipanema</td>\n",
              "      <td>-22.98467</td>\n",
              "      <td>-43.19611</td>\n",
              "      <td>Entire home/apt</td>\n",
              "      <td>442</td>\n",
              "      <td>5</td>\n",
              "      <td>94</td>\n",
              "      <td>2020-03-22</td>\n",
              "      <td>1.23</td>\n",
              "      <td>1</td>\n",
              "      <td>90</td>\n",
              "    </tr>\n",
              "    <tr>\n",
              "      <th>2</th>\n",
              "      <td>25026</td>\n",
              "      <td>Beautiful Modern Decorated Studio in Copa</td>\n",
              "      <td>102840</td>\n",
              "      <td>Viviane</td>\n",
              "      <td>NaN</td>\n",
              "      <td>Copacabana</td>\n",
              "      <td>-22.97712</td>\n",
              "      <td>-43.19045</td>\n",
              "      <td>Entire home/apt</td>\n",
              "      <td>160</td>\n",
              "      <td>7</td>\n",
              "      <td>238</td>\n",
              "      <td>2020-02-15</td>\n",
              "      <td>1.96</td>\n",
              "      <td>3</td>\n",
              "      <td>129</td>\n",
              "    </tr>\n",
              "    <tr>\n",
              "      <th>3</th>\n",
              "      <td>31560</td>\n",
              "      <td>NICE &amp; COZY 1BDR - IPANEMA BEACH</td>\n",
              "      <td>135635</td>\n",
              "      <td>Renata</td>\n",
              "      <td>NaN</td>\n",
              "      <td>Ipanema</td>\n",
              "      <td>-22.98302</td>\n",
              "      <td>-43.21427</td>\n",
              "      <td>Entire home/apt</td>\n",
              "      <td>359</td>\n",
              "      <td>2</td>\n",
              "      <td>282</td>\n",
              "      <td>2020-03-02</td>\n",
              "      <td>2.35</td>\n",
              "      <td>1</td>\n",
              "      <td>0</td>\n",
              "    </tr>\n",
              "    <tr>\n",
              "      <th>4</th>\n",
              "      <td>35636</td>\n",
              "      <td>Cosy flat close to Ipanema beach</td>\n",
              "      <td>153232</td>\n",
              "      <td>Patricia</td>\n",
              "      <td>NaN</td>\n",
              "      <td>Ipanema</td>\n",
              "      <td>-22.98816</td>\n",
              "      <td>-43.19359</td>\n",
              "      <td>Entire home/apt</td>\n",
              "      <td>495</td>\n",
              "      <td>2</td>\n",
              "      <td>181</td>\n",
              "      <td>2020-03-15</td>\n",
              "      <td>2.25</td>\n",
              "      <td>1</td>\n",
              "      <td>357</td>\n",
              "    </tr>\n",
              "  </tbody>\n",
              "</table>\n",
              "</div>"
            ],
            "text/plain": [
              "      id  ... availability_365\n",
              "0  17878  ...              335\n",
              "1  21280  ...               90\n",
              "2  25026  ...              129\n",
              "3  31560  ...                0\n",
              "4  35636  ...              357\n",
              "\n",
              "[5 rows x 16 columns]"
            ]
          },
          "metadata": {
            "tags": []
          },
          "execution_count": 26
        }
      ]
    },
    {
      "cell_type": "markdown",
      "metadata": {
        "id": "6-B_qtEaYEd-"
      },
      "source": [
        "### **1. Quantas variáveis e quantos registros o nosso conjunto de dados possui?** <a name=\"subparagraph4\"></a>  ([&uArr;](#sumario))\n",
        "\n",
        "Vamos identificar a quantidade de entradas que nosso conjunto de dados possui.\n",
        "\n",
        "Este *dataset* que baixamos é a versão \"resumida\" do Airbnb. Na mesma página que baixamos o arquivo `listings.csv` há uma versão mais completa (com um volume maior e com mais variáveis) `listings.csv.gz`."
      ]
    },
    {
      "cell_type": "code",
      "metadata": {
        "id": "TFRK0tniLV-G",
        "colab": {
          "base_uri": "https://localhost:8080/"
        },
        "outputId": "df704cba-722f-4d50-d8be-52b19c37fc23"
      },
      "source": [
        "# identificar os seguintes pontos: volume de dados, quantidade de variáveis, quantidade distinta de imóveis, se há duplicidade de registros e se há duplicidade nos campos chave;\n",
        "print(\"Entradas:\\t {}\".format(df.shape[0]))\n",
        "print(\"Variáveis:\\t {}\\n\".format(df.shape[1]))\n",
        "print(\"Quantidade distinta de imóveis:\\t {}\".format(len(df['id'].unique().tolist())))\n",
        "print(\"Registros duplicados:\\t\\t {}\".format(df.duplicated().sum()))\n",
        "print(\"Campos chave duplicados:\\t {}\".format(df[['id','host_id']].duplicated().sum()))"
      ],
      "execution_count": null,
      "outputs": [
        {
          "output_type": "stream",
          "text": [
            "Entradas:\t 35793\n",
            "Variáveis:\t 16\n",
            "\n",
            "Quantidade distinta de imóveis:\t 35793\n",
            "Registros duplicados:\t\t 0\n",
            "Campos chave duplicados:\t 0\n"
          ],
          "name": "stdout"
        }
      ]
    },
    {
      "cell_type": "code",
      "metadata": {
        "id": "OelBIaA34f5i",
        "colab": {
          "base_uri": "https://localhost:8080/",
          "height": 142
        },
        "outputId": "8fe697a3-c3b8-4f17-dfe4-e13bf2eb4bdf"
      },
      "source": [
        "#Verifica a consistência do campo 'calculated_host_listings_count' pela quantidade de 'host_id'\n",
        "df_filtro = df[df['host_id'] == 102840]\n",
        "df_filtro[['host_id','calculated_host_listings_count']]"
      ],
      "execution_count": null,
      "outputs": [
        {
          "output_type": "execute_result",
          "data": {
            "text/html": [
              "<div>\n",
              "<style scoped>\n",
              "    .dataframe tbody tr th:only-of-type {\n",
              "        vertical-align: middle;\n",
              "    }\n",
              "\n",
              "    .dataframe tbody tr th {\n",
              "        vertical-align: top;\n",
              "    }\n",
              "\n",
              "    .dataframe thead th {\n",
              "        text-align: right;\n",
              "    }\n",
              "</style>\n",
              "<table border=\"1\" class=\"dataframe\">\n",
              "  <thead>\n",
              "    <tr style=\"text-align: right;\">\n",
              "      <th></th>\n",
              "      <th>host_id</th>\n",
              "      <th>calculated_host_listings_count</th>\n",
              "    </tr>\n",
              "  </thead>\n",
              "  <tbody>\n",
              "    <tr>\n",
              "      <th>2</th>\n",
              "      <td>102840</td>\n",
              "      <td>3</td>\n",
              "    </tr>\n",
              "    <tr>\n",
              "      <th>435</th>\n",
              "      <td>102840</td>\n",
              "      <td>3</td>\n",
              "    </tr>\n",
              "    <tr>\n",
              "      <th>1472</th>\n",
              "      <td>102840</td>\n",
              "      <td>3</td>\n",
              "    </tr>\n",
              "  </tbody>\n",
              "</table>\n",
              "</div>"
            ],
            "text/plain": [
              "      host_id  calculated_host_listings_count\n",
              "2      102840                               3\n",
              "435    102840                               3\n",
              "1472   102840                               3"
            ]
          },
          "metadata": {
            "tags": []
          },
          "execution_count": 28
        }
      ]
    },
    {
      "cell_type": "markdown",
      "metadata": {
        "id": "FdzOWMCEwBVe"
      },
      "source": [
        "Peguei um `host_id` que possui três hotéis. Podemos ver que a quantidade bate com o valor informado no campo `calculated_host_listings_count`."
      ]
    },
    {
      "cell_type": "code",
      "metadata": {
        "id": "QUXWAbuD4625",
        "colab": {
          "base_uri": "https://localhost:8080/"
        },
        "outputId": "6559e817-0e1d-41f2-cd99-09c916e6fbb9"
      },
      "source": [
        "print(\"Quantidade máxima de calculated_host_listings_count:\\t {}\".format(df_filtro[['host_id','calculated_host_listings_count']].groupby('host_id').max().sum()[0]))\n",
        "print(\"Quantidade de host_id:\\t {}\".format(len(df_filtro.host_id.tolist())))"
      ],
      "execution_count": null,
      "outputs": [
        {
          "output_type": "stream",
          "text": [
            "Quantidade máxima de calculated_host_listings_count:\t 3\n",
            "Quantidade de host_id:\t 3\n"
          ],
          "name": "stdout"
        }
      ]
    },
    {
      "cell_type": "markdown",
      "metadata": {
        "id": "1fTZYlASwuoS"
      },
      "source": [
        "Agora vamos validar a tabela inteira."
      ]
    },
    {
      "cell_type": "code",
      "metadata": {
        "id": "dFQvgPY6Vtew",
        "colab": {
          "base_uri": "https://localhost:8080/"
        },
        "outputId": "56a7abb8-ce34-4085-f923-c6a37aa78fb7"
      },
      "source": [
        "#Verifica a consistência do campo 'calculated_host_listings_count'\n",
        "print(\"Quantidade máxima de calculated_host_listings_count: {}\".format(df[['host_id','calculated_host_listings_count']].groupby('host_id').max().sum()[0]))\n",
        "print(\"Quantidade de host_id:\\t {}\".format(len(df.host_id.tolist())))\n"
      ],
      "execution_count": null,
      "outputs": [
        {
          "output_type": "stream",
          "text": [
            "Quantidade máxima de calculated_host_listings_count: 35793\n",
            "Quantidade de host_id:\t 35793\n"
          ],
          "name": "stdout"
        }
      ]
    },
    {
      "cell_type": "markdown",
      "metadata": {
        "id": "NW4-PDDDxLeu"
      },
      "source": [
        "*As* quantidades estão batendo, logo os dados informados pelo campo `calculated_host_listings_count` estão consistentes."
      ]
    },
    {
      "cell_type": "code",
      "metadata": {
        "colab": {
          "base_uri": "https://localhost:8080/"
        },
        "id": "WR2WAPXuIDPn",
        "outputId": "63e6e4ec-9b83-4aa9-dafe-81aae2ea7649"
      },
      "source": [
        "# transformando as colunas\n",
        "df[['price','latitude', 'longitude']] = df[['price','latitude', 'longitude']].astype('object')\n",
        "\n",
        "# verificando o resultado\n",
        "df.dtypes"
      ],
      "execution_count": null,
      "outputs": [
        {
          "output_type": "execute_result",
          "data": {
            "text/plain": [
              "id                                  int64\n",
              "name                               object\n",
              "host_id                             int64\n",
              "host_name                          object\n",
              "neighbourhood_group               float64\n",
              "neighbourhood                      object\n",
              "latitude                           object\n",
              "longitude                          object\n",
              "room_type                          object\n",
              "price                              object\n",
              "minimum_nights                      int64\n",
              "number_of_reviews                   int64\n",
              "last_review                        object\n",
              "reviews_per_month                 float64\n",
              "calculated_host_listings_count      int64\n",
              "availability_365                    int64\n",
              "dtype: object"
            ]
          },
          "metadata": {
            "tags": []
          },
          "execution_count": 31
        }
      ]
    },
    {
      "cell_type": "markdown",
      "metadata": {
        "id": "NDd1uglA--uz"
      },
      "source": [
        "### **2. Qual a porcentagem de valores ausentes no *dataset*?** <a name=\"subparagraph5\"></a>   ([&uArr;](#sumario))\n",
        "\n",
        "A qualidade de um dataset está diretamente relacionada à quantidade de valores ausentes. É importante entender logo no início se esses valores nulos são significativos comparados ao total de entradas."
      ]
    },
    {
      "cell_type": "code",
      "metadata": {
        "colab": {
          "base_uri": "https://localhost:8080/"
        },
        "id": "akuHoMggIyUS",
        "outputId": "d6c20691-c079-46c0-ff3a-0731b65b8953"
      },
      "source": [
        "# verificando dados ausentes\n",
        "(df.isnull().sum()).sort_values(ascending=False)"
      ],
      "execution_count": null,
      "outputs": [
        {
          "output_type": "execute_result",
          "data": {
            "text/plain": [
              "neighbourhood_group               35793\n",
              "reviews_per_month                 14906\n",
              "last_review                       14906\n",
              "name                                 58\n",
              "host_name                             5\n",
              "availability_365                      0\n",
              "calculated_host_listings_count        0\n",
              "number_of_reviews                     0\n",
              "minimum_nights                        0\n",
              "price                                 0\n",
              "room_type                             0\n",
              "longitude                             0\n",
              "latitude                              0\n",
              "neighbourhood                         0\n",
              "host_id                               0\n",
              "id                                    0\n",
              "dtype: int64"
            ]
          },
          "metadata": {
            "tags": []
          },
          "execution_count": 32
        }
      ]
    },
    {
      "cell_type": "markdown",
      "metadata": {
        "id": "nflMeEnpJbHi"
      },
      "source": [
        " Seguindo o que falamos anteriormente, colunas com baixo poder preditivo e grande quantidade de dados faltantes podem ser excluídas.\n",
        "\n",
        "Em relação às outras entradas, estão em poucas entradas, não parecem ter algum tipo de relação entre elas, e não parecem ter grande poder preditivo. Mais uma vez, vamos fazer a exclusão. Porém, aqui vamos excluir as entradas."
      ]
    },
    {
      "cell_type": "code",
      "metadata": {
        "id": "CfYf-IG1Jo5T"
      },
      "source": [
        "# excluindo colunas com dados faltantes\n",
        "df.drop(columns=['reviews_per_month', 'last_review', 'neighbourhood_group'], inplace=True)\n",
        "\n",
        "# excluindo entradas com dados faltantes\n",
        "df.dropna(axis=0, inplace=True)\n",
        "\n",
        "# convertendo os tipos de dados\n",
        "df[['price','latitude', 'longitude']] = df[['price','latitude', 'longitude']].astype('float')"
      ],
      "execution_count": null,
      "outputs": []
    },
    {
      "cell_type": "markdown",
      "metadata": {
        "id": "6GbYu7wWKR-R"
      },
      "source": [
        "Feita a limpeza, é hora de conferir os resultados."
      ]
    },
    {
      "cell_type": "code",
      "metadata": {
        "colab": {
          "base_uri": "https://localhost:8080/"
        },
        "id": "w86v2MDZKTgS",
        "outputId": "e83eff6b-7bed-4992-cfc0-23495fa6b8f6"
      },
      "source": [
        "# verificando o resultado\n",
        "(df.isnull().sum()).sort_values(ascending=False)"
      ],
      "execution_count": null,
      "outputs": [
        {
          "output_type": "execute_result",
          "data": {
            "text/plain": [
              "availability_365                  0\n",
              "calculated_host_listings_count    0\n",
              "number_of_reviews                 0\n",
              "minimum_nights                    0\n",
              "price                             0\n",
              "room_type                         0\n",
              "longitude                         0\n",
              "latitude                          0\n",
              "neighbourhood                     0\n",
              "host_name                         0\n",
              "host_id                           0\n",
              "name                              0\n",
              "id                                0\n",
              "dtype: int64"
            ]
          },
          "metadata": {
            "tags": []
          },
          "execution_count": 34
        }
      ]
    },
    {
      "cell_type": "markdown",
      "metadata": {
        "id": "6-8HMyqfhxZj"
      },
      "source": [
        "### **3. Há *outliers* presentes?** <a name=\"subparagraph7\"></a>   ([&uArr;](#sumario))\r\n",
        "Vamos dar uma olhada nos nossos dados e ver o que identificamos."
      ]
    },
    {
      "cell_type": "code",
      "metadata": {
        "colab": {
          "base_uri": "https://localhost:8080/",
          "height": 297
        },
        "id": "IguV-MK3NQ-u",
        "outputId": "e4af99ea-64b3-4cd4-974c-e3a2ffcd4517"
      },
      "source": [
        "# verificando a distribuição estatística\n",
        "df[['price', 'minimum_nights', 'number_of_reviews', 'calculated_host_listings_count', 'availability_365']].describe().round(1)"
      ],
      "execution_count": null,
      "outputs": [
        {
          "output_type": "execute_result",
          "data": {
            "text/html": [
              "<div>\n",
              "<style scoped>\n",
              "    .dataframe tbody tr th:only-of-type {\n",
              "        vertical-align: middle;\n",
              "    }\n",
              "\n",
              "    .dataframe tbody tr th {\n",
              "        vertical-align: top;\n",
              "    }\n",
              "\n",
              "    .dataframe thead th {\n",
              "        text-align: right;\n",
              "    }\n",
              "</style>\n",
              "<table border=\"1\" class=\"dataframe\">\n",
              "  <thead>\n",
              "    <tr style=\"text-align: right;\">\n",
              "      <th></th>\n",
              "      <th>price</th>\n",
              "      <th>minimum_nights</th>\n",
              "      <th>number_of_reviews</th>\n",
              "      <th>calculated_host_listings_count</th>\n",
              "      <th>availability_365</th>\n",
              "    </tr>\n",
              "  </thead>\n",
              "  <tbody>\n",
              "    <tr>\n",
              "      <th>count</th>\n",
              "      <td>35730.0</td>\n",
              "      <td>35730.0</td>\n",
              "      <td>35730.0</td>\n",
              "      <td>35730.0</td>\n",
              "      <td>35730.0</td>\n",
              "    </tr>\n",
              "    <tr>\n",
              "      <th>mean</th>\n",
              "      <td>792.3</td>\n",
              "      <td>4.8</td>\n",
              "      <td>9.8</td>\n",
              "      <td>8.2</td>\n",
              "      <td>171.9</td>\n",
              "    </tr>\n",
              "    <tr>\n",
              "      <th>std</th>\n",
              "      <td>2435.6</td>\n",
              "      <td>21.9</td>\n",
              "      <td>25.8</td>\n",
              "      <td>34.9</td>\n",
              "      <td>154.6</td>\n",
              "    </tr>\n",
              "    <tr>\n",
              "      <th>min</th>\n",
              "      <td>0.0</td>\n",
              "      <td>1.0</td>\n",
              "      <td>0.0</td>\n",
              "      <td>1.0</td>\n",
              "      <td>0.0</td>\n",
              "    </tr>\n",
              "    <tr>\n",
              "      <th>25%</th>\n",
              "      <td>159.0</td>\n",
              "      <td>1.0</td>\n",
              "      <td>0.0</td>\n",
              "      <td>1.0</td>\n",
              "      <td>0.0</td>\n",
              "    </tr>\n",
              "    <tr>\n",
              "      <th>50%</th>\n",
              "      <td>299.0</td>\n",
              "      <td>2.0</td>\n",
              "      <td>1.0</td>\n",
              "      <td>1.0</td>\n",
              "      <td>160.0</td>\n",
              "    </tr>\n",
              "    <tr>\n",
              "      <th>75%</th>\n",
              "      <td>649.0</td>\n",
              "      <td>4.0</td>\n",
              "      <td>6.0</td>\n",
              "      <td>3.0</td>\n",
              "      <td>362.0</td>\n",
              "    </tr>\n",
              "    <tr>\n",
              "      <th>max</th>\n",
              "      <td>138288.0</td>\n",
              "      <td>1123.0</td>\n",
              "      <td>401.0</td>\n",
              "      <td>324.0</td>\n",
              "      <td>365.0</td>\n",
              "    </tr>\n",
              "  </tbody>\n",
              "</table>\n",
              "</div>"
            ],
            "text/plain": [
              "          price  ...  availability_365\n",
              "count   35730.0  ...           35730.0\n",
              "mean      792.3  ...             171.9\n",
              "std      2435.6  ...             154.6\n",
              "min         0.0  ...               0.0\n",
              "25%       159.0  ...               0.0\n",
              "50%       299.0  ...             160.0\n",
              "75%       649.0  ...             362.0\n",
              "max    138288.0  ...             365.0\n",
              "\n",
              "[8 rows x 5 columns]"
            ]
          },
          "metadata": {
            "tags": []
          },
          "execution_count": 35
        }
      ]
    },
    {
      "cell_type": "markdown",
      "metadata": {
        "id": "39iQcT6QNbTq"
      },
      "source": [
        "Aqui, algumas coisas já chamam a nossa atenção, como por exemplo:\n",
        "\n",
        "* A variável `price` tem o mínimo em 0.\n",
        "* Lembrando que a variável `price` trata do preço da diária dos imóveis em moeda local (USD), estamos vendo que o *Terceiro Quartil (**75%**)* está em **649** dólares, mas o máximo está em **138.288** dórales. Claramente, há outliers por aqui.\n",
        "* A variável `minimum_nights` tem como seu *máximo o valor* **1.123**, sendo que o *Terceiro Quartil está em **4** . Claramente temos outliers nessa variável.\n",
        "* As variáveis `number_of_reviews`, `calculated_host_listings_count` e `availability_365` também podem conter outliers, mas não vamos nos preocupar com elas agora."
      ]
    },
    {
      "cell_type": "code",
      "metadata": {
        "colab": {
          "base_uri": "https://localhost:8080/",
          "height": 879
        },
        "id": "S58JxOE_ZWE0",
        "outputId": "0ff40173-36bb-4b45-c60b-9cc477d08168"
      },
      "source": [
        "# verificando as distribuições\r\n",
        "df.hist(figsize=(20,15), grid=False);"
      ],
      "execution_count": null,
      "outputs": [
        {
          "output_type": "display_data",
          "data": {
            "image/png": "[encoded data removed]",
            "text/plain": [
              "<Figure size 1440x1080 with 9 Axes>"
            ]
          },
          "metadata": {
            "tags": [],
            "needs_background": "light"
          }
        }
      ]
    },
    {
      "cell_type": "markdown",
      "metadata": {
        "id": "IPZf3-LoNyVF"
      },
      "source": [
        "Verificando os histogramas, conseguimos ver claramente que temos outliers presentes."
      ]
    },
    {
      "cell_type": "markdown",
      "metadata": {
        "id": "-2pErK20aHMH"
      },
      "source": [
        "#### Limpando Outliers\r\n",
        "\r\n",
        "Para tratar dos outliers desse conjunto de dados, iremos calcular os limites utilizando a regra do IQR Score.\r\n",
        "\r\n",
        "Primeiramente, vamos lembrar o que é o IQR.\r\n",
        "\r\n",
        "O IQR é calculado subtraindo o Terceiro Quartil (75%) pelo Primeiro Quartil (25%).\r\n",
        "\r\n",
        "# IQR = Q3 - Q1\r\n",
        "\r\n",
        "Vamos seguir os seguintes passos:\r\n",
        "\r\n",
        "* Definir o Q1 e Q3 para as variáveis que serão limpas.\r\n",
        "* Calcular o IQR para as variáveis.\r\n",
        "* Definir o limite superior e inferior para cortar os outliers.\r\n",
        "* Remover os outliers."
      ]
    },
    {
      "cell_type": "code",
      "metadata": {
        "colab": {
          "base_uri": "https://localhost:8080/"
        },
        "id": "EGThR7gQcNRg",
        "outputId": "ff74a95b-4a54-4d5a-90b7-7c46664cc051"
      },
      "source": [
        "# identificando os outliers para a variável price\r\n",
        "q1_price = df.price.quantile(.25)\r\n",
        "q3_price = df.price.quantile(.75)\r\n",
        "IQR_price = q3_price - q1_price\r\n",
        "print('IQR da variável price: ', IQR_price)\r\n",
        "\r\n",
        "# definindo os limites                                       \r\n",
        "sup_price = q3_price + 1.5 * IQR_price\r\n",
        "inf_price = q1_price - 1.5 * IQR_price\r\n",
        "\r\n",
        "print('Limite superior de price: ', sup_price)\r\n",
        "print('Limite inferior de price: ', inf_price)\r\n"
      ],
      "execution_count": null,
      "outputs": [
        {
          "output_type": "stream",
          "text": [
            "IQR da variável price:  490.0\n",
            "Limite superior de price:  1384.0\n",
            "Limite inferior de price:  -576.0\n"
          ],
          "name": "stdout"
        }
      ]
    },
    {
      "cell_type": "markdown",
      "metadata": {
        "id": "oAXqvQhJc3NN"
      },
      "source": [
        "Aqui podemos ver que, apesar de não termos outliers na parte inferior, continuamos tendo valores iguais a zero, que precisam ser tratados.\r\n",
        "\r\n",
        "Vamos plotar um boxplot para visualizarmos a diferença feita pela limpeza."
      ]
    },
    {
      "cell_type": "code",
      "metadata": {
        "colab": {
          "base_uri": "https://localhost:8080/",
          "height": 278
        },
        "id": "evuEqeo6c6BY",
        "outputId": "02918475-e022-46f4-9eb5-017678c9b17c"
      },
      "source": [
        "# verificando o conjunto original\r\n",
        "fig, ax = plt.subplots(figsize=(15,3))\r\n",
        "df.price.plot(kind='box', vert=False);\r\n",
        "ax.set_title('Dataset Original - price')\r\n",
        "plt.show()\r\n",
        "print(\"O dataset possui {} colunas\".format(df.shape[0]))\r\n",
        "print(\"{} Entradas acima de 1384\".format(len(df[df.price > 1384])))\r\n",
        "print(\"Representam {:.2f}% do dataset\".format((len(df[df.price > 1384]) / df.shape[0])*100))"
      ],
      "execution_count": null,
      "outputs": [
        {
          "output_type": "display_data",
          "data": {
            "image/png": "[encoded data removed]",
            "text/plain": [
              "<Figure size 1080x216 with 1 Axes>"
            ]
          },
          "metadata": {
            "tags": [],
            "needs_background": "light"
          }
        },
        {
          "output_type": "stream",
          "text": [
            "O dataset possui 35730 colunas\n",
            "3796 Entradas acima de 1384\n",
            "Representam 10.62% do dataset\n"
          ],
          "name": "stdout"
        }
      ]
    },
    {
      "cell_type": "code",
      "metadata": {
        "colab": {
          "base_uri": "https://localhost:8080/"
        },
        "id": "d0jvVGa7oY4b",
        "outputId": "621932c4-8936-4cca-e613-12f31543afa6"
      },
      "source": [
        "# identificando os outliers para a variável minimum_nights\r\n",
        "q1_minimum_nights = df.minimum_nights.quantile(.25)\r\n",
        "q3_minimum_nights = df.minimum_nights.quantile(.75)\r\n",
        "IQR_minimum_nights = q3_minimum_nights - q1_minimum_nights\r\n",
        "print('IQR da variável minimum_nights: ', IQR_minimum_nights)\r\n",
        "\r\n",
        "# definindo os limites                                       \r\n",
        "sup_minimum_nights = q3_minimum_nights + 1.5 * IQR_minimum_nights\r\n",
        "inf_minimum_nights = q1_minimum_nights - 1.5 * IQR_minimum_nights\r\n",
        "\r\n",
        "print('Limite superior de minimum_nights: ', sup_minimum_nights)\r\n",
        "print('Limite inferior de minimum_nights: ', inf_minimum_nights)"
      ],
      "execution_count": null,
      "outputs": [
        {
          "output_type": "stream",
          "text": [
            "IQR da variável minimum_nights:  3.0\n",
            "Limite superior de minimum_nights:  8.5\n",
            "Limite inferior de minimum_nights:  -3.5\n"
          ],
          "name": "stdout"
        }
      ]
    },
    {
      "cell_type": "code",
      "metadata": {
        "colab": {
          "base_uri": "https://localhost:8080/",
          "height": 278
        },
        "id": "_oGY6rWsopCX",
        "outputId": "0c34d83e-2282-4f38-affd-f6f915393d3f"
      },
      "source": [
        "# verificando o conjunto original\r\n",
        "fig, ax = plt.subplots(figsize=(15,3))\r\n",
        "df.minimum_nights.plot(kind='box', vert=False);\r\n",
        "ax.set_title('Dataset Original - minimum_nights')\r\n",
        "plt.show()\r\n",
        "print(\"O dataset possui {} colunas\".format(df.shape[0]))\r\n",
        "print(\"{} Entradas acima de 8.5\".format(len(df[df.minimum_nights > 8.5])))\r\n",
        "print(\"Representam {:.1f}% do dataset\".format((len(df[df.minimum_nights > 8.5]) / df.shape[0])*100))"
      ],
      "execution_count": null,
      "outputs": [
        {
          "output_type": "display_data",
          "data": {
            "image/png": "[encoded data removed]",
            "text/plain": [
              "<Figure size 1080x216 with 1 Axes>"
            ]
          },
          "metadata": {
            "tags": [],
            "needs_background": "light"
          }
        },
        {
          "output_type": "stream",
          "text": [
            "O dataset possui 35730 colunas\n",
            "2823 Entradas acima de 8.5\n",
            "Representam 7.9% do dataset\n"
          ],
          "name": "stdout"
        }
      ]
    },
    {
      "cell_type": "code",
      "metadata": {
        "colab": {
          "base_uri": "https://localhost:8080/"
        },
        "id": "rPD98GzJpbOL",
        "outputId": "6106121e-d3f7-48a9-c8b8-e67bcb9c4602"
      },
      "source": [
        "# limpando o dataset\r\n",
        "df_clean = df.copy()\r\n",
        "\r\n",
        "df_clean.drop(df_clean[df_clean.price > 1384].index, axis=0, inplace=True)\r\n",
        "df_clean.drop(df_clean[df_clean.price == 0.0].index, axis=0, inplace=True)\r\n",
        "df_clean.drop(df_clean[df_clean.minimum_nights > 8.5].index, axis=0, inplace=True)\r\n",
        "\r\n",
        "print('Shape antes da limpeza: ', df.shape)\r\n",
        "print('Shape após a limpeza: ',df_clean.shape)"
      ],
      "execution_count": null,
      "outputs": [
        {
          "output_type": "stream",
          "text": [
            "Shape antes da limpeza:  (35730, 13)\n",
            "Shape após a limpeza:  (29840, 13)\n"
          ],
          "name": "stdout"
        }
      ]
    },
    {
      "cell_type": "code",
      "metadata": {
        "colab": {
          "base_uri": "https://localhost:8080/",
          "height": 278
        },
        "id": "KNA9NeSppxLP",
        "outputId": "7ebcf63d-131c-439a-e1bf-06ca2267a0b5"
      },
      "source": [
        "# plotando novamente o boxplot original\r\n",
        "fig, ax = plt.subplots(figsize=(15,3))\r\n",
        "df.price.plot(kind='box', vert=False);\r\n",
        "ax.set_title('Dataset Original - price')\r\n",
        "plt.show()\r\n",
        "print(\"O dataset possui {} colunas\".format(df.shape[0]))\r\n",
        "print(\"{} Entradas acima de 1.384\".format(len(df[df.price > 1384])))\r\n",
        "print(\"Representam {:.2f}% do dataset\".format((len(df[df.price > 1384]) / df.shape[0])*100))\r\n"
      ],
      "execution_count": null,
      "outputs": [
        {
          "output_type": "display_data",
          "data": {
            "image/png": "[encoded data removed]",
            "text/plain": [
              "<Figure size 1080x216 with 1 Axes>"
            ]
          },
          "metadata": {
            "tags": [],
            "needs_background": "light"
          }
        },
        {
          "output_type": "stream",
          "text": [
            "O dataset possui 35730 colunas\n",
            "3796 Entradas acima de 1.384\n",
            "Representam 10.62% do dataset\n"
          ],
          "name": "stdout"
        }
      ]
    },
    {
      "cell_type": "code",
      "metadata": {
        "colab": {
          "base_uri": "https://localhost:8080/",
          "height": 261
        },
        "id": "-tLKAXCfvx1I",
        "outputId": "78ff63e5-31f4-4c27-d4db-3c7cfaf2f155"
      },
      "source": [
        "# verificando o conjunto limpo\r\n",
        "fig, ax = plt.subplots(figsize=(15,3))\r\n",
        "df_clean.price.plot(kind='box', vert=False);\r\n",
        "ax.set_title('Dataset Limpo - price')\r\n",
        "plt.show()\r\n",
        "print(\"Tamanho original: {} colunas\".format(df.shape[0]))\r\n",
        "print(\"Tamanho atual: {} colunas\".format(df_clean.shape[0]))"
      ],
      "execution_count": null,
      "outputs": [
        {
          "output_type": "display_data",
          "data": {
            "image/png": "[encoded data removed]",
            "text/plain": [
              "<Figure size 1080x216 with 1 Axes>"
            ]
          },
          "metadata": {
            "tags": [],
            "needs_background": "light"
          }
        },
        {
          "output_type": "stream",
          "text": [
            "Tamanho original: 35730 colunas\n",
            "Tamanho atual: 29840 colunas\n"
          ],
          "name": "stdout"
        }
      ]
    },
    {
      "cell_type": "markdown",
      "metadata": {
        "id": "KYBL_NJ0v26Q"
      },
      "source": [
        "Aqui podemos ver o resultado da limpeza.\r\n",
        "\r\n",
        "O boxplot mostra alguns dados como outliers, entretanto, esses estão sendo calculados em relação ao novo dataset, e nossa limpeza levou em consideração os quartis do dado original.\r\n",
        "\r\n",
        "Para garantirmos que não estamos lidando com outliers que vão prejudicar nossa análise, vamos checar os histogramas novamente.\r\n"
      ]
    },
    {
      "cell_type": "code",
      "metadata": {
        "colab": {
          "base_uri": "https://localhost:8080/",
          "height": 879
        },
        "id": "5fFU8LwLv8D8",
        "outputId": "52d17331-1f20-45af-90de-94d87f9c90fe"
      },
      "source": [
        "# verificando as distribuições\r\n",
        "df_clean.hist(figsize=(20,15), grid=False);"
      ],
      "execution_count": null,
      "outputs": [
        {
          "output_type": "display_data",
          "data": {
            "image/png": "[encoded data removed]",
            "text/plain": [
              "<Figure size 1440x1080 with 9 Axes>"
            ]
          },
          "metadata": {
            "tags": [],
            "needs_background": "light"
          }
        }
      ]
    },
    {
      "cell_type": "code",
      "metadata": {
        "colab": {
          "base_uri": "https://localhost:8080/",
          "height": 297
        },
        "id": "73BlQ1lIwBXC",
        "outputId": "ed9e1fad-3581-41ea-a008-fac0706f8af5"
      },
      "source": [
        "# verificando a distribuição estatística dos dados limpos\r\n",
        "df_clean[['price', 'minimum_nights', 'number_of_reviews', 'calculated_host_listings_count', 'availability_365']].describe().round(1)"
      ],
      "execution_count": null,
      "outputs": [
        {
          "output_type": "execute_result",
          "data": {
            "text/html": [
              "<div>\n",
              "<style scoped>\n",
              "    .dataframe tbody tr th:only-of-type {\n",
              "        vertical-align: middle;\n",
              "    }\n",
              "\n",
              "    .dataframe tbody tr th {\n",
              "        vertical-align: top;\n",
              "    }\n",
              "\n",
              "    .dataframe thead th {\n",
              "        text-align: right;\n",
              "    }\n",
              "</style>\n",
              "<table border=\"1\" class=\"dataframe\">\n",
              "  <thead>\n",
              "    <tr style=\"text-align: right;\">\n",
              "      <th></th>\n",
              "      <th>price</th>\n",
              "      <th>minimum_nights</th>\n",
              "      <th>number_of_reviews</th>\n",
              "      <th>calculated_host_listings_count</th>\n",
              "      <th>availability_365</th>\n",
              "    </tr>\n",
              "  </thead>\n",
              "  <tbody>\n",
              "    <tr>\n",
              "      <th>count</th>\n",
              "      <td>29840.0</td>\n",
              "      <td>29840.0</td>\n",
              "      <td>29840.0</td>\n",
              "      <td>29840.0</td>\n",
              "      <td>29840.0</td>\n",
              "    </tr>\n",
              "    <tr>\n",
              "      <th>mean</th>\n",
              "      <td>353.6</td>\n",
              "      <td>2.6</td>\n",
              "      <td>11.1</td>\n",
              "      <td>5.4</td>\n",
              "      <td>172.1</td>\n",
              "    </tr>\n",
              "    <tr>\n",
              "      <th>std</th>\n",
              "      <td>286.2</td>\n",
              "      <td>1.6</td>\n",
              "      <td>27.4</td>\n",
              "      <td>17.5</td>\n",
              "      <td>152.5</td>\n",
              "    </tr>\n",
              "    <tr>\n",
              "      <th>min</th>\n",
              "      <td>28.0</td>\n",
              "      <td>1.0</td>\n",
              "      <td>0.0</td>\n",
              "      <td>1.0</td>\n",
              "      <td>0.0</td>\n",
              "    </tr>\n",
              "    <tr>\n",
              "      <th>25%</th>\n",
              "      <td>149.0</td>\n",
              "      <td>1.0</td>\n",
              "      <td>0.0</td>\n",
              "      <td>1.0</td>\n",
              "      <td>0.0</td>\n",
              "    </tr>\n",
              "    <tr>\n",
              "      <th>50%</th>\n",
              "      <td>249.0</td>\n",
              "      <td>2.0</td>\n",
              "      <td>2.0</td>\n",
              "      <td>1.0</td>\n",
              "      <td>166.0</td>\n",
              "    </tr>\n",
              "    <tr>\n",
              "      <th>75%</th>\n",
              "      <td>476.0</td>\n",
              "      <td>3.0</td>\n",
              "      <td>8.0</td>\n",
              "      <td>3.0</td>\n",
              "      <td>362.0</td>\n",
              "    </tr>\n",
              "    <tr>\n",
              "      <th>max</th>\n",
              "      <td>1383.0</td>\n",
              "      <td>8.0</td>\n",
              "      <td>401.0</td>\n",
              "      <td>200.0</td>\n",
              "      <td>365.0</td>\n",
              "    </tr>\n",
              "  </tbody>\n",
              "</table>\n",
              "</div>"
            ],
            "text/plain": [
              "         price  ...  availability_365\n",
              "count  29840.0  ...           29840.0\n",
              "mean     353.6  ...             172.1\n",
              "std      286.2  ...             152.5\n",
              "min       28.0  ...               0.0\n",
              "25%      149.0  ...               0.0\n",
              "50%      249.0  ...             166.0\n",
              "75%      476.0  ...             362.0\n",
              "max     1383.0  ...             365.0\n",
              "\n",
              "[8 rows x 5 columns]"
            ]
          },
          "metadata": {
            "tags": []
          },
          "execution_count": 46
        }
      ]
    },
    {
      "cell_type": "markdown",
      "metadata": {
        "id": "Fr8qCuZhwFy7"
      },
      "source": [
        "Agora conseguimos ter uma ideia bem melhor da distribuição dos nossos dados.\r\n",
        "\r\n",
        "Alguns destaques:\r\n",
        "\r\n",
        "* A mediana da variável `price` foi pouquíssimo afetada pela limpeza dos outliers, mostrando mais uma vez a robustez desse atributo como solução para dados ausentes.\r\n",
        "* Agora, temos dados que respeitam as regras definidas no início do notebook, onde vimos o que são bons dados.\r\n",
        "* A média da variável `price` foi reduzida drásticamente, enfatizando a sensibilidade desse atributo em relação aos outliers."
      ]
    },
    {
      "cell_type": "markdown",
      "metadata": {
        "id": "IXn2oIo5qx-w"
      },
      "source": [
        "### **4. Qual a correlação existente entre as variáveis?** <a name=\"subparagraph8\"></a>  ([&uArr;](#sumario))\n",
        "\n",
        "Correlação significa que existe uma relação entre duas coisas. No nosso contexto, estamos buscando relação ou semelhança entre duas variáveis.\n",
        "\n",
        "Essa relação pode ser medida, e é função do coeficiente de correlação estabelecer qual a intensidade dela. Para identificar as correlações existentes entre as variáveis de interesse, vou:\n",
        "\n",
        "* Criar uma matriz de correlação\n",
        "* Gerar um *heatmap* a partir dessa matriz, usando a biblioteca `seaborn`"
      ]
    },
    {
      "cell_type": "code",
      "metadata": {
        "id": "x2ayzBajqxyd",
        "colab": {
          "base_uri": "https://localhost:8080/",
          "height": 204
        },
        "outputId": "edbb8ccb-2315-4137-ac24-b6118f404178"
      },
      "source": [
        "# criar uma matriz de correlação\n",
        "corr = df_clean[['price', 'minimum_nights', 'number_of_reviews',\n",
        "    'calculated_host_listings_count', 'availability_365']].corr()\n",
        "\n",
        "# mostrar a matriz de correlação\n",
        "display(corr)"
      ],
      "execution_count": null,
      "outputs": [
        {
          "output_type": "display_data",
          "data": {
            "text/html": [
              "<div>\n",
              "<style scoped>\n",
              "    .dataframe tbody tr th:only-of-type {\n",
              "        vertical-align: middle;\n",
              "    }\n",
              "\n",
              "    .dataframe tbody tr th {\n",
              "        vertical-align: top;\n",
              "    }\n",
              "\n",
              "    .dataframe thead th {\n",
              "        text-align: right;\n",
              "    }\n",
              "</style>\n",
              "<table border=\"1\" class=\"dataframe\">\n",
              "  <thead>\n",
              "    <tr style=\"text-align: right;\">\n",
              "      <th></th>\n",
              "      <th>price</th>\n",
              "      <th>minimum_nights</th>\n",
              "      <th>number_of_reviews</th>\n",
              "      <th>calculated_host_listings_count</th>\n",
              "      <th>availability_365</th>\n",
              "    </tr>\n",
              "  </thead>\n",
              "  <tbody>\n",
              "    <tr>\n",
              "      <th>price</th>\n",
              "      <td>1.000000</td>\n",
              "      <td>0.180578</td>\n",
              "      <td>-0.150263</td>\n",
              "      <td>0.055958</td>\n",
              "      <td>-0.012528</td>\n",
              "    </tr>\n",
              "    <tr>\n",
              "      <th>minimum_nights</th>\n",
              "      <td>0.180578</td>\n",
              "      <td>1.000000</td>\n",
              "      <td>-0.054092</td>\n",
              "      <td>0.002140</td>\n",
              "      <td>-0.040141</td>\n",
              "    </tr>\n",
              "    <tr>\n",
              "      <th>number_of_reviews</th>\n",
              "      <td>-0.150263</td>\n",
              "      <td>-0.054092</td>\n",
              "      <td>1.000000</td>\n",
              "      <td>-0.027394</td>\n",
              "      <td>0.051193</td>\n",
              "    </tr>\n",
              "    <tr>\n",
              "      <th>calculated_host_listings_count</th>\n",
              "      <td>0.055958</td>\n",
              "      <td>0.002140</td>\n",
              "      <td>-0.027394</td>\n",
              "      <td>1.000000</td>\n",
              "      <td>0.075737</td>\n",
              "    </tr>\n",
              "    <tr>\n",
              "      <th>availability_365</th>\n",
              "      <td>-0.012528</td>\n",
              "      <td>-0.040141</td>\n",
              "      <td>0.051193</td>\n",
              "      <td>0.075737</td>\n",
              "      <td>1.000000</td>\n",
              "    </tr>\n",
              "  </tbody>\n",
              "</table>\n",
              "</div>"
            ],
            "text/plain": [
              "                                   price  ...  availability_365\n",
              "price                           1.000000  ...         -0.012528\n",
              "minimum_nights                  0.180578  ...         -0.040141\n",
              "number_of_reviews              -0.150263  ...          0.051193\n",
              "calculated_host_listings_count  0.055958  ...          0.075737\n",
              "availability_365               -0.012528  ...          1.000000\n",
              "\n",
              "[5 rows x 5 columns]"
            ]
          },
          "metadata": {
            "tags": []
          }
        }
      ]
    },
    {
      "cell_type": "code",
      "metadata": {
        "id": "91UujDr6ueqE",
        "colab": {
          "base_uri": "https://localhost:8080/",
          "height": 411
        },
        "outputId": "a0318a26-7949-44fe-ee55-370ec01b972b"
      },
      "source": [
        "# plotar um heatmap a partir das correlações\n",
        "sns.heatmap(corr, cmap='RdBu', fmt='.2f', square=True, linecolor='white', annot=True);"
      ],
      "execution_count": null,
      "outputs": [
        {
          "output_type": "display_data",
          "data": {
            "image/png": "[encoded data removed]",
            "text/plain": [
              "<Figure size 432x288 with 2 Axes>"
            ]
          },
          "metadata": {
            "tags": [],
            "needs_background": "light"
          }
        }
      ]
    },
    {
      "cell_type": "markdown",
      "metadata": {
        "id": "7b6RMWpuHKN-"
      },
      "source": [
        "### **5. Qual o tipo de imóvel mais alugado no Airbnb?** <a name=\"subparagraph9\"></a>  ([&uArr;](#sumario))\n",
        "\n",
        "A coluna da variável `room_type` indica o tipo de locação que está anunciada no Airbnb. Se você já alugou no site, sabe que existem opções de apartamentos/casas inteiras, apenas o aluguel de um quarto ou mesmo dividir o quarto com outras pessoas.\n",
        "\n",
        "Vamos contar a quantidade de ocorrências de cada tipo de aluguel, usando o método `value_counts()`."
      ]
    },
    {
      "cell_type": "code",
      "metadata": {
        "id": "ueLPNWvPHgfB",
        "colab": {
          "base_uri": "https://localhost:8080/"
        },
        "outputId": "6df541c3-211b-4e85-b39b-4e9acf10ef30"
      },
      "source": [
        "# mostrar a quantidade de cada tipo de imóvel disponível\n",
        "df_clean.room_type.value_counts()"
      ],
      "execution_count": null,
      "outputs": [
        {
          "output_type": "execute_result",
          "data": {
            "text/plain": [
              "Entire home/apt    20411\n",
              "Private room        8561\n",
              "Shared room          717\n",
              "Hotel room           151\n",
              "Name: room_type, dtype: int64"
            ]
          },
          "metadata": {
            "tags": []
          },
          "execution_count": 57
        }
      ]
    },
    {
      "cell_type": "code",
      "metadata": {
        "id": "EvwoO-XAHhIm",
        "colab": {
          "base_uri": "https://localhost:8080/"
        },
        "outputId": "1fcc3f43-5426-41c4-d4c5-b8df3fdef182"
      },
      "source": [
        "# mostrar a porcentagem de cada tipo de imóvel disponível\n",
        "round((df_clean.room_type.value_counts() / df_clean.shape[0])*100,2)"
      ],
      "execution_count": null,
      "outputs": [
        {
          "output_type": "execute_result",
          "data": {
            "text/plain": [
              "Entire home/apt    68.40\n",
              "Private room       28.69\n",
              "Shared room         2.40\n",
              "Hotel room          0.51\n",
              "Name: room_type, dtype: float64"
            ]
          },
          "metadata": {
            "tags": []
          },
          "execution_count": 52
        }
      ]
    },
    {
      "cell_type": "markdown",
      "metadata": {
        "id": "MFa5NbnLJMcd"
      },
      "source": [
        "### **6. Qual a localidade mais cara do dataset?** <a name=\"subparagraph10\"></a>  ([&uArr;](#sumario))\n",
        "\n",
        "Uma maneira de se verificar uma variável em função da outra é usando `groupby()`. Neste caso, queremos comparar os bairros (*neighbourhoods*) a partir do preço de locação.\n",
        "\n"
      ]
    },
    {
      "cell_type": "code",
      "metadata": {
        "id": "MD_xa143JZpi",
        "colab": {
          "base_uri": "https://localhost:8080/"
        },
        "outputId": "25ec0770-041d-4a47-c150-a26ee632ea15"
      },
      "source": [
        "# ver preços por bairros, na média\n",
        "df_clean.groupby(['neighbourhood']).price.mean().sort_values(ascending=False)[:15]"
      ],
      "execution_count": null,
      "outputs": [
        {
          "output_type": "execute_result",
          "data": {
            "text/plain": [
              "neighbourhood\n",
              "Caju                      660.500000\n",
              "Vaz Lobo                  651.500000\n",
              "Ricardo de Albuquerque    610.600000\n",
              "Lagoa                     499.600000\n",
              "Alto da Boa Vista         487.657895\n",
              "Inhoaíba                  480.000000\n",
              "Deodoro                   475.500000\n",
              "Leblon                    466.123759\n",
              "Pedra de Guaratiba        458.500000\n",
              "Riachuelo                 443.550000\n",
              "Ipanema                   442.012229\n",
              "Pavuna                    440.600000\n",
              "Jardim Sulacap            436.666667\n",
              "Barra da Tijuca           433.452153\n",
              "Grumari                   429.000000\n",
              "Name: price, dtype: float64"
            ]
          },
          "metadata": {
            "tags": []
          },
          "execution_count": 73
        }
      ]
    },
    {
      "cell_type": "markdown",
      "metadata": {
        "id": "lupG10EX_d_p"
      },
      "source": [
        "Acima, vemos que bairros como Vaz Lobo, Ricardo de Albuquerque e Deodoro, estão com média de preço superior a de lugares como Leblon e Barra da Tijuca.\n",
        "\n",
        "Uma pessoa que não conhecesse o Rio poderia apresentar esses resultados sem se questionar. Só para dar um único exemplo de como uma amostra pode ser não-representativa, veja quantas entradas há para o Vaz Lobo."
      ]
    },
    {
      "cell_type": "code",
      "metadata": {
        "id": "dx-uP0Hc_4_2",
        "colab": {
          "base_uri": "https://localhost:8080/",
          "height": 216
        },
        "outputId": "98ca7eca-36e8-46b2-8963-4a6d766c1929"
      },
      "source": [
        "# ver quantidade de imóveis no Vaz Lobo\n",
        "print(df_clean[df_clean.neighbourhood == \"Vaz Lobo\"].shape)\n",
        "\n",
        "# ver as 2 entradas do Complexo do Alemão\n",
        "df_clean[df_clean.neighbourhood == \"Vaz Lobo\"]"
      ],
      "execution_count": null,
      "outputs": [
        {
          "output_type": "stream",
          "text": [
            "(2, 13)\n"
          ],
          "name": "stdout"
        },
        {
          "output_type": "execute_result",
          "data": {
            "text/html": [
              "<div>\n",
              "<style scoped>\n",
              "    .dataframe tbody tr th:only-of-type {\n",
              "        vertical-align: middle;\n",
              "    }\n",
              "\n",
              "    .dataframe tbody tr th {\n",
              "        vertical-align: top;\n",
              "    }\n",
              "\n",
              "    .dataframe thead th {\n",
              "        text-align: right;\n",
              "    }\n",
              "</style>\n",
              "<table border=\"1\" class=\"dataframe\">\n",
              "  <thead>\n",
              "    <tr style=\"text-align: right;\">\n",
              "      <th></th>\n",
              "      <th>id</th>\n",
              "      <th>name</th>\n",
              "      <th>host_id</th>\n",
              "      <th>host_name</th>\n",
              "      <th>neighbourhood</th>\n",
              "      <th>latitude</th>\n",
              "      <th>longitude</th>\n",
              "      <th>room_type</th>\n",
              "      <th>price</th>\n",
              "      <th>minimum_nights</th>\n",
              "      <th>number_of_reviews</th>\n",
              "      <th>calculated_host_listings_count</th>\n",
              "      <th>availability_365</th>\n",
              "    </tr>\n",
              "  </thead>\n",
              "  <tbody>\n",
              "    <tr>\n",
              "      <th>2909</th>\n",
              "      <td>2768499</td>\n",
              "      <td>Próximo ao Maracanã</td>\n",
              "      <td>14157867</td>\n",
              "      <td>Fernando</td>\n",
              "      <td>Vaz Lobo</td>\n",
              "      <td>-22.85955</td>\n",
              "      <td>-43.32918</td>\n",
              "      <td>Private room</td>\n",
              "      <td>1001.0</td>\n",
              "      <td>1</td>\n",
              "      <td>0</td>\n",
              "      <td>1</td>\n",
              "      <td>0</td>\n",
              "    </tr>\n",
              "    <tr>\n",
              "      <th>33494</th>\n",
              "      <td>42012781</td>\n",
              "      <td>Casas flegler</td>\n",
              "      <td>332881900</td>\n",
              "      <td>Igor Flegler De Souza</td>\n",
              "      <td>Vaz Lobo</td>\n",
              "      <td>-22.86070</td>\n",
              "      <td>-43.32446</td>\n",
              "      <td>Private room</td>\n",
              "      <td>302.0</td>\n",
              "      <td>1</td>\n",
              "      <td>0</td>\n",
              "      <td>1</td>\n",
              "      <td>363</td>\n",
              "    </tr>\n",
              "  </tbody>\n",
              "</table>\n",
              "</div>"
            ],
            "text/plain": [
              "             id  ... availability_365\n",
              "2909    2768499  ...                0\n",
              "33494  42012781  ...              363\n",
              "\n",
              "[2 rows x 13 columns]"
            ]
          },
          "metadata": {
            "tags": []
          },
          "execution_count": 54
        }
      ]
    },
    {
      "cell_type": "markdown",
      "metadata": {
        "id": "DDu_HdrtASmP"
      },
      "source": [
        "Como são fornecidas as Latitudes e Longitudes para os imóveis, é possível plotar cada ponto. Para isso, considera-se `x=longitude` e `y=latitude`."
      ]
    },
    {
      "cell_type": "code",
      "metadata": {
        "id": "UxVJqJ_3W59I",
        "colab": {
          "base_uri": "https://localhost:8080/",
          "height": 469
        },
        "outputId": "6c6a970a-6ec6-4930-8b59-c36fc01ab81b"
      },
      "source": [
        "# plotar os imóveis pela latitude-longitude\n",
        "# plotar os imóveis pela latitude-longitude\n",
        "df_clean.plot(kind=\"scatter\", x='longitude', y='latitude', alpha=0.4, c=df_clean['price'], s=8,\n",
        "              cmap=plt.get_cmap('jet'), figsize=(12,8));"
      ],
      "execution_count": null,
      "outputs": [
        {
          "output_type": "display_data",
          "data": {
            "image/png": "[encoded data removed]",
            "text/plain": [
              "<Figure size 864x576 with 2 Axes>"
            ]
          },
          "metadata": {
            "tags": [],
            "needs_background": "light"
          }
        }
      ]
    },
    {
      "cell_type": "markdown",
      "metadata": {
        "id": "gipHFOuPCwhf"
      },
      "source": [
        "### **7. Houve impacto nos preços dos imóveis devido a pandemia?**  <a name=\"subparagraph11\"></a>  ([&uArr;](#sumario))"
      ]
    },
    {
      "cell_type": "markdown",
      "metadata": {
        "id": "ULzrephSXpUw"
      },
      "source": [
        "Uma hipótese que levantei é se a situação de pandemia causada pelo `Covid-19` chegou a afetar o preço dos imóveis no período observado.\n",
        "\n",
        "O período de observação será de **Janeiro a maio** entre os anos de **2019** e **2020**.\n",
        "\n",
        "Como este tipo de arquivo disponibilizado pela Airbnb é por mês foi necessário importar cada um dos arquivos para seus respectivs dataframes. \n",
        "\n",
        "\n"
      ]
    },
    {
      "cell_type": "code",
      "metadata": {
        "id": "OiY9hRqNDuiP"
      },
      "source": [
        "# importa os arquivos 'listings.csv' dos anos de 2019 e 2020 no mesmo período para um DataFrame\n",
        "\n",
        "#Dados de 2019\n",
        "df_201901 = pd.read_csv(\"http://data.insideairbnb.com/brazil/rj/rio-de-janeiro/2019-01-18/visualisations/listings.csv\")\n",
        "df_201902 = pd.read_csv(\"http://data.insideairbnb.com/brazil/rj/rio-de-janeiro/2019-02-11/visualisations/listings.csv\")\n",
        "df_201903 = pd.read_csv(\"http://data.insideairbnb.com/brazil/rj/rio-de-janeiro/2019-03-13/visualisations/listings.csv\")\n",
        "df_201904 = pd.read_csv(\"http://data.insideairbnb.com/brazil/rj/rio-de-janeiro/2019-04-16/visualisations/listings.csv\")\n",
        "df_201905 = pd.read_csv(\"http://data.insideairbnb.com/brazil/rj/rio-de-janeiro/2019-05-21/visualisations/listings.csv\")\n",
        "#Dados de 2020\n",
        "df_202001 = pd.read_csv(\"http://data.insideairbnb.com/brazil/rj/rio-de-janeiro/2020-01-21/visualisations/listings.csv\")\n",
        "df_202002 = pd.read_csv(\"http://data.insideairbnb.com/brazil/rj/rio-de-janeiro/2020-02-25/visualisations/listings.csv\")\n",
        "df_202003 = pd.read_csv(\"http://data.insideairbnb.com/brazil/rj/rio-de-janeiro/2020-03-18/visualisations/listings.csv\")\n",
        "df_202004 = pd.read_csv(\"http://data.insideairbnb.com/brazil/rj/rio-de-janeiro/2020-04-20/visualisations/listings.csv\")\n",
        "df_202005 = pd.read_csv(\"http://data.insideairbnb.com/brazil/rj/rio-de-janeiro/2020-05-24/visualisations/listings.csv\")"
      ],
      "execution_count": null,
      "outputs": []
    },
    {
      "cell_type": "code",
      "metadata": {
        "id": "kJdsUdqkFhWq"
      },
      "source": [
        "#Adiciona uma nova variável com o mês de referencia do arquivo\n",
        "df_201901['mes_ref'] = '2019-01'\n",
        "df_201902['mes_ref'] = '2019-02'\n",
        "df_201903['mes_ref'] = '2019-03'\n",
        "df_201904['mes_ref'] = '2019-04'\n",
        "df_201905['mes_ref'] = '2019-05'\n",
        "\n",
        "df_202001['mes_ref'] = '2020-01'\n",
        "df_202002['mes_ref'] = '2020-02'\n",
        "df_202003['mes_ref'] = '2020-03'\n",
        "df_202004['mes_ref'] = '2020-04'\n",
        "df_202005['mes_ref'] = '2020-05'"
      ],
      "execution_count": null,
      "outputs": []
    },
    {
      "cell_type": "markdown",
      "metadata": {
        "id": "Sa_jAMR5aUqv"
      },
      "source": [
        "Após a importação uni os arquivos em um único dataframe atribuindo o seu respectivo ano mês.  "
      ]
    },
    {
      "cell_type": "code",
      "metadata": {
        "id": "ev-iXKFvFyKd"
      },
      "source": [
        "#Defini lista \n",
        "df_lista = [df_201901, df_201902, df_201903, df_201904, df_201905, df_202001, df_202002, df_202003, df_202004, df_202005]\n",
        "\n",
        "#Junta Dataframes\n",
        "df_anomes = pd.concat(df_lista, ignore_index=True)\n",
        "\n",
        "#Reordena índice de acordo com os campos 'host_id' e 'mes_ref' \n",
        "df_anomes = df_anomes.sort_values(by=['host_id','mes_ref'],ignore_index=True)"
      ],
      "execution_count": null,
      "outputs": []
    },
    {
      "cell_type": "code",
      "metadata": {
        "id": "4i7A8nuOHvfg"
      },
      "source": [
        "#Apaga variáveis que não serão mais necessárias para a análise\n",
        "df_anomes.drop(['name', 'host_name', 'neighbourhood', 'room_type', 'minimum_nights', \n",
        "                'neighbourhood_group','latitude','longitude','number_of_reviews','last_review',\n",
        "                'reviews_per_month','calculated_host_listings_count', 'availability_365'], axis=1, inplace=True)\n",
        "\n",
        "df2 = df_anomes.copy()\n",
        "#df_anomes_clean.drop(df_anomes_clean[df_anomes_clean.price > 1500].index, axis=0, inplace=True)"
      ],
      "execution_count": null,
      "outputs": []
    },
    {
      "cell_type": "code",
      "metadata": {
        "id": "q73s3mC_hRB4"
      },
      "source": [
        ""
      ],
      "execution_count": null,
      "outputs": []
    },
    {
      "cell_type": "code",
      "metadata": {
        "colab": {
          "base_uri": "https://localhost:8080/"
        },
        "id": "ljETRBGIbDyL",
        "outputId": "7169d468-2199-4b43-f2d6-44cfba8aa4c9"
      },
      "source": [
        "# verificando se há dados ausentes\r\n",
        "df2.price.isnull().sum()"
      ],
      "execution_count": null,
      "outputs": [
        {
          "output_type": "execute_result",
          "data": {
            "text/plain": [
              "0"
            ]
          },
          "metadata": {
            "tags": []
          },
          "execution_count": 108
        }
      ]
    },
    {
      "cell_type": "markdown",
      "metadata": {
        "id": "XjADO4tEdr0m"
      },
      "source": [
        "#### Limpando Outliers"
      ]
    },
    {
      "cell_type": "code",
      "metadata": {
        "colab": {
          "base_uri": "https://localhost:8080/",
          "height": 297
        },
        "id": "gRH_TiW7ZbE9",
        "outputId": "883a194c-44d9-4e04-fe1e-b96873e8478a"
      },
      "source": [
        "# verificando a distribuição estatística da variável 'price'\r\n",
        "df2[['price']].describe()"
      ],
      "execution_count": null,
      "outputs": [
        {
          "output_type": "execute_result",
          "data": {
            "text/html": [
              "<div>\n",
              "<style scoped>\n",
              "    .dataframe tbody tr th:only-of-type {\n",
              "        vertical-align: middle;\n",
              "    }\n",
              "\n",
              "    .dataframe tbody tr th {\n",
              "        vertical-align: top;\n",
              "    }\n",
              "\n",
              "    .dataframe thead th {\n",
              "        text-align: right;\n",
              "    }\n",
              "</style>\n",
              "<table border=\"1\" class=\"dataframe\">\n",
              "  <thead>\n",
              "    <tr style=\"text-align: right;\">\n",
              "      <th></th>\n",
              "      <th>price</th>\n",
              "    </tr>\n",
              "  </thead>\n",
              "  <tbody>\n",
              "    <tr>\n",
              "      <th>count</th>\n",
              "      <td>358524.000000</td>\n",
              "    </tr>\n",
              "    <tr>\n",
              "      <th>mean</th>\n",
              "      <td>672.550091</td>\n",
              "    </tr>\n",
              "    <tr>\n",
              "      <th>std</th>\n",
              "      <td>1841.575505</td>\n",
              "    </tr>\n",
              "    <tr>\n",
              "      <th>min</th>\n",
              "      <td>0.000000</td>\n",
              "    </tr>\n",
              "    <tr>\n",
              "      <th>25%</th>\n",
              "      <td>153.000000</td>\n",
              "    </tr>\n",
              "    <tr>\n",
              "      <th>50%</th>\n",
              "      <td>298.000000</td>\n",
              "    </tr>\n",
              "    <tr>\n",
              "      <th>75%</th>\n",
              "      <td>601.000000</td>\n",
              "    </tr>\n",
              "    <tr>\n",
              "      <th>max</th>\n",
              "      <td>138288.000000</td>\n",
              "    </tr>\n",
              "  </tbody>\n",
              "</table>\n",
              "</div>"
            ],
            "text/plain": [
              "               price\n",
              "count  358524.000000\n",
              "mean      672.550091\n",
              "std      1841.575505\n",
              "min         0.000000\n",
              "25%       153.000000\n",
              "50%       298.000000\n",
              "75%       601.000000\n",
              "max    138288.000000"
            ]
          },
          "metadata": {
            "tags": []
          },
          "execution_count": 109
        }
      ]
    },
    {
      "cell_type": "markdown",
      "metadata": {
        "id": "lgu26LC0cCCW"
      },
      "source": [
        "Plota histograma para verificar a distribuição das variáveis. <a name=\"subparagraph12\"></a>"
      ]
    },
    {
      "cell_type": "code",
      "metadata": {
        "id": "drqgi-EkJAXh",
        "colab": {
          "base_uri": "https://localhost:8080/",
          "height": 157
        },
        "outputId": "73747486-aa37-4664-bb76-a6af883bfb16"
      },
      "source": [
        "# plotar o histograma para as variáveis numéricas\n",
        "df2.price.hist(figsize=(4,2), grid=False, legend=True);"
      ],
      "execution_count": null,
      "outputs": [
        {
          "output_type": "display_data",
          "data": {
            "image/png": "[encoded data removed]",
            "text/plain": [
              "<Figure size 288x144 with 1 Axes>"
            ]
          },
          "metadata": {
            "tags": [],
            "needs_background": "light"
          }
        }
      ]
    },
    {
      "cell_type": "code",
      "metadata": {
        "colab": {
          "base_uri": "https://localhost:8080/"
        },
        "id": "q2KJ3bHvgxsT",
        "outputId": "71909789-60d1-437a-c6ee-cb2fbb25b087"
      },
      "source": [
        "# identificando os outliers para a variável price\r\n",
        "q1_price = df2.price.quantile(.25)\r\n",
        "q3_price = df2.price.quantile(.75)\r\n",
        "IQR_price = q3_price - q1_price\r\n",
        "print('IQR da variável price: ', IQR_price)\r\n",
        "\r\n",
        "# definindo os limites                                       \r\n",
        "sup_price = q3_price + 1.5 * IQR_price\r\n",
        "inf_price = q1_price - 1.5 * IQR_price\r\n",
        "\r\n",
        "print('Limite superior de price: ', sup_price)\r\n",
        "print('Limite inferior de price: ', inf_price)\r\n"
      ],
      "execution_count": null,
      "outputs": [
        {
          "output_type": "stream",
          "text": [
            "IQR da variável price:  448.0\n",
            "Limite superior de price:  1273.0\n",
            "Limite inferior de price:  -519.0\n"
          ],
          "name": "stdout"
        }
      ]
    },
    {
      "cell_type": "code",
      "metadata": {
        "colab": {
          "base_uri": "https://localhost:8080/",
          "height": 278
        },
        "id": "io5dsGxsh-iB",
        "outputId": "be5b06b5-9c9e-4aee-ac68-44c458b6a9da"
      },
      "source": [
        "# verificando o conjunto original\r\n",
        "fig, ax = plt.subplots(figsize=(15,3))\r\n",
        "df2.price.plot(kind='box', vert=False);\r\n",
        "ax.set_title('Dataset Original - price')\r\n",
        "plt.show()\r\n",
        "print(\"O dataset possui {} colunas\".format(df2.shape[0]))\r\n",
        "print(\"{} Entradas acima de 1273\".format(len(df2[df2.price > 1273])))\r\n",
        "print(\"Representam {:.2f}% do dataset\".format((len(df2[df2.price > 1273]) / df2.shape[0])*100))"
      ],
      "execution_count": null,
      "outputs": [
        {
          "output_type": "display_data",
          "data": {
            "image/png": "[encoded data removed]",
            "text/plain": [
              "<Figure size 1080x216 with 1 Axes>"
            ]
          },
          "metadata": {
            "tags": [],
            "needs_background": "light"
          }
        },
        {
          "output_type": "stream",
          "text": [
            "O dataset possui 358524 colunas\n",
            "36094 Entradas acima de 1273\n",
            "Representam 10.07% do dataset\n"
          ],
          "name": "stdout"
        }
      ]
    },
    {
      "cell_type": "code",
      "metadata": {
        "colab": {
          "base_uri": "https://localhost:8080/"
        },
        "id": "yKwNUBaNios3",
        "outputId": "389757f6-b7cd-4470-9af9-d5e7613a43d5"
      },
      "source": [
        "# limpando o dataset\r\n",
        "df2_clean = df2.copy()\r\n",
        "\r\n",
        "df2_clean.drop(df2_clean[df2_clean.price > 1273].index, axis=0, inplace=True)\r\n",
        "df2_clean.drop(df2_clean[df2_clean.price == 0.0].index, axis=0, inplace=True)\r\n",
        "\r\n",
        "print('Shape antes da limpeza: ', df2.shape)\r\n",
        "print('Shape após a limpeza: ',df2_clean.shape)"
      ],
      "execution_count": null,
      "outputs": [
        {
          "output_type": "stream",
          "text": [
            "Shape antes da limpeza:  (358524, 4)\n",
            "Shape após a limpeza:  (322344, 4)\n"
          ],
          "name": "stdout"
        }
      ]
    },
    {
      "cell_type": "code",
      "metadata": {
        "colab": {
          "base_uri": "https://localhost:8080/",
          "height": 261
        },
        "id": "wO_QoyLEjr2h",
        "outputId": "9bf2ad6f-75fd-4507-a5ba-d8dc5ae836ee"
      },
      "source": [
        "# verificando o conjunto limpo\r\n",
        "fig, ax = plt.subplots(figsize=(15,3))\r\n",
        "df2_clean.price.plot(kind='box', vert=False);\r\n",
        "ax.set_title('Dataset Limpo - price')\r\n",
        "plt.show()\r\n",
        "print(\"Tamanho original: {} colunas\".format(df2.shape[0]))\r\n",
        "print(\"Tamanho atual: {} colunas\".format(df2_clean.shape[0]))"
      ],
      "execution_count": null,
      "outputs": [
        {
          "output_type": "display_data",
          "data": {
            "image/png": "[encoded data removed]",
            "text/plain": [
              "<Figure size 1080x216 with 1 Axes>"
            ]
          },
          "metadata": {
            "tags": [],
            "needs_background": "light"
          }
        },
        {
          "output_type": "stream",
          "text": [
            "Tamanho original: 358524 colunas\n",
            "Tamanho atual: 322344 colunas\n"
          ],
          "name": "stdout"
        }
      ]
    },
    {
      "cell_type": "code",
      "metadata": {
        "colab": {
          "base_uri": "https://localhost:8080/",
          "height": 160
        },
        "id": "s8mnmkLRkObT",
        "outputId": "04e54e12-0f41-4b9b-fc09-3fffafd270eb"
      },
      "source": [
        "# verificando a distribuição da variável 'price' após a limpeza\r\n",
        "df2_clean.price.hist(figsize=(4,2), grid=False, legend=True);"
      ],
      "execution_count": null,
      "outputs": [
        {
          "output_type": "display_data",
          "data": {
            "image/png": "[encoded data removed]",
            "text/plain": [
              "<Figure size 288x144 with 1 Axes>"
            ]
          },
          "metadata": {
            "tags": [],
            "needs_background": "light"
          }
        }
      ]
    },
    {
      "cell_type": "code",
      "metadata": {
        "colab": {
          "base_uri": "https://localhost:8080/",
          "height": 297
        },
        "id": "AfeL9-JAlg_6",
        "outputId": "ad0db63b-5f7f-41dc-d507-43c64c970181"
      },
      "source": [
        "# verificando a distribuição estatística da variável 'price' após a limpeza\r\n",
        "df2_clean[['price']].describe()"
      ],
      "execution_count": null,
      "outputs": [
        {
          "output_type": "execute_result",
          "data": {
            "text/html": [
              "<div>\n",
              "<style scoped>\n",
              "    .dataframe tbody tr th:only-of-type {\n",
              "        vertical-align: middle;\n",
              "    }\n",
              "\n",
              "    .dataframe tbody tr th {\n",
              "        vertical-align: top;\n",
              "    }\n",
              "\n",
              "    .dataframe thead th {\n",
              "        text-align: right;\n",
              "    }\n",
              "</style>\n",
              "<table border=\"1\" class=\"dataframe\">\n",
              "  <thead>\n",
              "    <tr style=\"text-align: right;\">\n",
              "      <th></th>\n",
              "      <th>price</th>\n",
              "    </tr>\n",
              "  </thead>\n",
              "  <tbody>\n",
              "    <tr>\n",
              "      <th>count</th>\n",
              "      <td>322344.000000</td>\n",
              "    </tr>\n",
              "    <tr>\n",
              "      <th>mean</th>\n",
              "      <td>355.052007</td>\n",
              "    </tr>\n",
              "    <tr>\n",
              "      <th>std</th>\n",
              "      <td>282.277799</td>\n",
              "    </tr>\n",
              "    <tr>\n",
              "      <th>min</th>\n",
              "      <td>15.000000</td>\n",
              "    </tr>\n",
              "    <tr>\n",
              "      <th>25%</th>\n",
              "      <td>149.000000</td>\n",
              "    </tr>\n",
              "    <tr>\n",
              "      <th>50%</th>\n",
              "      <td>250.000000</td>\n",
              "    </tr>\n",
              "    <tr>\n",
              "      <th>75%</th>\n",
              "      <td>496.000000</td>\n",
              "    </tr>\n",
              "    <tr>\n",
              "      <th>max</th>\n",
              "      <td>1273.000000</td>\n",
              "    </tr>\n",
              "  </tbody>\n",
              "</table>\n",
              "</div>"
            ],
            "text/plain": [
              "               price\n",
              "count  322344.000000\n",
              "mean      355.052007\n",
              "std       282.277799\n",
              "min        15.000000\n",
              "25%       149.000000\n",
              "50%       250.000000\n",
              "75%       496.000000\n",
              "max      1273.000000"
            ]
          },
          "metadata": {
            "tags": []
          },
          "execution_count": 127
        }
      ]
    },
    {
      "cell_type": "code",
      "metadata": {
        "id": "fvPbIrZ09o3Y",
        "colab": {
          "base_uri": "https://localhost:8080/"
        },
        "outputId": "e8cd9ac5-ad18-43b8-e18f-acf586fdb22e"
      },
      "source": [
        "df2_clean[df2_clean['mes_ref']=='2020-05'].price.sum()"
      ],
      "execution_count": null,
      "outputs": [
        {
          "output_type": "execute_result",
          "data": {
            "text/plain": [
              "11174642"
            ]
          },
          "metadata": {
            "tags": []
          },
          "execution_count": 128
        }
      ]
    },
    {
      "cell_type": "code",
      "metadata": {
        "id": "lB0GYYrYBPZM"
      },
      "source": [
        "df2_clean['ano'] = pd.DataFrame(df2_clean.mes_ref.str[:4])\n",
        "df2_clean['mes'] = pd.to_datetime(df2_clean.mes_ref.str[5:7], format='%m').dt.month_name().str.slice(stop=3)\n",
        "df2_clean['mes_n'] = pd.DataFrame(df2_clean.mes_ref.str[5:7].astype(str).astype(int))"
      ],
      "execution_count": null,
      "outputs": []
    },
    {
      "cell_type": "code",
      "metadata": {
        "id": "o2VKYNJ7LFNB"
      },
      "source": [
        "df2_clean['price_2019'] = pd.DataFrame(df2_clean[df2_clean['ano']=='2019'].price)\n",
        "df2_clean['price_2020'] = pd.DataFrame(df2_clean[df2_clean['ano']=='2020'].price)"
      ],
      "execution_count": null,
      "outputs": []
    },
    {
      "cell_type": "code",
      "metadata": {
        "id": "IBArO1ICO0iU",
        "colab": {
          "base_uri": "https://localhost:8080/",
          "height": 204
        },
        "outputId": "0a24aaae-03b7-4156-b542-2f9613f2c797"
      },
      "source": [
        "df2_clean.head()"
      ],
      "execution_count": null,
      "outputs": [
        {
          "output_type": "execute_result",
          "data": {
            "text/html": [
              "<div>\n",
              "<style scoped>\n",
              "    .dataframe tbody tr th:only-of-type {\n",
              "        vertical-align: middle;\n",
              "    }\n",
              "\n",
              "    .dataframe tbody tr th {\n",
              "        vertical-align: top;\n",
              "    }\n",
              "\n",
              "    .dataframe thead th {\n",
              "        text-align: right;\n",
              "    }\n",
              "</style>\n",
              "<table border=\"1\" class=\"dataframe\">\n",
              "  <thead>\n",
              "    <tr style=\"text-align: right;\">\n",
              "      <th></th>\n",
              "      <th>id</th>\n",
              "      <th>host_id</th>\n",
              "      <th>price</th>\n",
              "      <th>mes_ref</th>\n",
              "      <th>ano</th>\n",
              "      <th>mes</th>\n",
              "      <th>mes_n</th>\n",
              "      <th>price_2019</th>\n",
              "      <th>price_2020</th>\n",
              "    </tr>\n",
              "  </thead>\n",
              "  <tbody>\n",
              "    <tr>\n",
              "      <th>0</th>\n",
              "      <td>4855561</td>\n",
              "      <td>2616</td>\n",
              "      <td>90</td>\n",
              "      <td>2019-01</td>\n",
              "      <td>2019</td>\n",
              "      <td>Jan</td>\n",
              "      <td>1</td>\n",
              "      <td>90.0</td>\n",
              "      <td>NaN</td>\n",
              "    </tr>\n",
              "    <tr>\n",
              "      <th>1</th>\n",
              "      <td>4855561</td>\n",
              "      <td>2616</td>\n",
              "      <td>90</td>\n",
              "      <td>2019-02</td>\n",
              "      <td>2019</td>\n",
              "      <td>Feb</td>\n",
              "      <td>2</td>\n",
              "      <td>90.0</td>\n",
              "      <td>NaN</td>\n",
              "    </tr>\n",
              "    <tr>\n",
              "      <th>2</th>\n",
              "      <td>4855561</td>\n",
              "      <td>2616</td>\n",
              "      <td>92</td>\n",
              "      <td>2019-03</td>\n",
              "      <td>2019</td>\n",
              "      <td>Mar</td>\n",
              "      <td>3</td>\n",
              "      <td>92.0</td>\n",
              "      <td>NaN</td>\n",
              "    </tr>\n",
              "    <tr>\n",
              "      <th>3</th>\n",
              "      <td>4855561</td>\n",
              "      <td>2616</td>\n",
              "      <td>89</td>\n",
              "      <td>2019-04</td>\n",
              "      <td>2019</td>\n",
              "      <td>Apr</td>\n",
              "      <td>4</td>\n",
              "      <td>89.0</td>\n",
              "      <td>NaN</td>\n",
              "    </tr>\n",
              "    <tr>\n",
              "      <th>4</th>\n",
              "      <td>4855561</td>\n",
              "      <td>2616</td>\n",
              "      <td>90</td>\n",
              "      <td>2019-05</td>\n",
              "      <td>2019</td>\n",
              "      <td>May</td>\n",
              "      <td>5</td>\n",
              "      <td>90.0</td>\n",
              "      <td>NaN</td>\n",
              "    </tr>\n",
              "  </tbody>\n",
              "</table>\n",
              "</div>"
            ],
            "text/plain": [
              "        id  host_id  price  mes_ref   ano  mes  mes_n  price_2019  price_2020\n",
              "0  4855561     2616     90  2019-01  2019  Jan      1        90.0         NaN\n",
              "1  4855561     2616     90  2019-02  2019  Feb      2        90.0         NaN\n",
              "2  4855561     2616     92  2019-03  2019  Mar      3        92.0         NaN\n",
              "3  4855561     2616     89  2019-04  2019  Apr      4        89.0         NaN\n",
              "4  4855561     2616     90  2019-05  2019  May      5        90.0         NaN"
            ]
          },
          "metadata": {
            "tags": []
          },
          "execution_count": 133
        }
      ]
    },
    {
      "cell_type": "code",
      "metadata": {
        "colab": {
          "base_uri": "https://localhost:8080/",
          "height": 204
        },
        "id": "_-0XmMHpm13W",
        "outputId": "10dcd2af-2e1d-4296-d19e-b0989026764e"
      },
      "source": [
        "df2_clean.tail()"
      ],
      "execution_count": null,
      "outputs": [
        {
          "output_type": "execute_result",
          "data": {
            "text/html": [
              "<div>\n",
              "<style scoped>\n",
              "    .dataframe tbody tr th:only-of-type {\n",
              "        vertical-align: middle;\n",
              "    }\n",
              "\n",
              "    .dataframe tbody tr th {\n",
              "        vertical-align: top;\n",
              "    }\n",
              "\n",
              "    .dataframe thead th {\n",
              "        text-align: right;\n",
              "    }\n",
              "</style>\n",
              "<table border=\"1\" class=\"dataframe\">\n",
              "  <thead>\n",
              "    <tr style=\"text-align: right;\">\n",
              "      <th></th>\n",
              "      <th>id</th>\n",
              "      <th>host_id</th>\n",
              "      <th>price</th>\n",
              "      <th>mes_ref</th>\n",
              "      <th>ano</th>\n",
              "      <th>mes</th>\n",
              "      <th>mes_n</th>\n",
              "      <th>price_2019</th>\n",
              "      <th>price_2020</th>\n",
              "    </tr>\n",
              "  </thead>\n",
              "  <tbody>\n",
              "    <tr>\n",
              "      <th>358519</th>\n",
              "      <td>43444983</td>\n",
              "      <td>346318780</td>\n",
              "      <td>340</td>\n",
              "      <td>2020-05</td>\n",
              "      <td>2020</td>\n",
              "      <td>May</td>\n",
              "      <td>5</td>\n",
              "      <td>NaN</td>\n",
              "      <td>340.0</td>\n",
              "    </tr>\n",
              "    <tr>\n",
              "      <th>358520</th>\n",
              "      <td>43452933</td>\n",
              "      <td>346404387</td>\n",
              "      <td>407</td>\n",
              "      <td>2020-05</td>\n",
              "      <td>2020</td>\n",
              "      <td>May</td>\n",
              "      <td>5</td>\n",
              "      <td>NaN</td>\n",
              "      <td>407.0</td>\n",
              "    </tr>\n",
              "    <tr>\n",
              "      <th>358521</th>\n",
              "      <td>43474463</td>\n",
              "      <td>346643851</td>\n",
              "      <td>232</td>\n",
              "      <td>2020-05</td>\n",
              "      <td>2020</td>\n",
              "      <td>May</td>\n",
              "      <td>5</td>\n",
              "      <td>NaN</td>\n",
              "      <td>232.0</td>\n",
              "    </tr>\n",
              "    <tr>\n",
              "      <th>358522</th>\n",
              "      <td>43487393</td>\n",
              "      <td>346801324</td>\n",
              "      <td>121</td>\n",
              "      <td>2020-05</td>\n",
              "      <td>2020</td>\n",
              "      <td>May</td>\n",
              "      <td>5</td>\n",
              "      <td>NaN</td>\n",
              "      <td>121.0</td>\n",
              "    </tr>\n",
              "    <tr>\n",
              "      <th>358523</th>\n",
              "      <td>43495124</td>\n",
              "      <td>346884508</td>\n",
              "      <td>448</td>\n",
              "      <td>2020-05</td>\n",
              "      <td>2020</td>\n",
              "      <td>May</td>\n",
              "      <td>5</td>\n",
              "      <td>NaN</td>\n",
              "      <td>448.0</td>\n",
              "    </tr>\n",
              "  </tbody>\n",
              "</table>\n",
              "</div>"
            ],
            "text/plain": [
              "              id    host_id  price  mes_ref  ...  mes mes_n  price_2019  price_2020\n",
              "358519  43444983  346318780    340  2020-05  ...  May     5         NaN       340.0\n",
              "358520  43452933  346404387    407  2020-05  ...  May     5         NaN       407.0\n",
              "358521  43474463  346643851    232  2020-05  ...  May     5         NaN       232.0\n",
              "358522  43487393  346801324    121  2020-05  ...  May     5         NaN       121.0\n",
              "358523  43495124  346884508    448  2020-05  ...  May     5         NaN       448.0\n",
              "\n",
              "[5 rows x 9 columns]"
            ]
          },
          "metadata": {
            "tags": []
          },
          "execution_count": 134
        }
      ]
    },
    {
      "cell_type": "code",
      "metadata": {
        "id": "jPtKmVFAOa2U",
        "colab": {
          "base_uri": "https://localhost:8080/"
        },
        "outputId": "f346207a-a03c-48a2-f5b7-59dfd6a4d964"
      },
      "source": [
        "df_anomes_price = df2_clean.groupby(['mes_n','mes'])['price_2019','price_2020'].mean().sort_values(by=['mes_n'])"
      ],
      "execution_count": null,
      "outputs": [
        {
          "output_type": "stream",
          "text": [
            "/usr/local/lib/python3.6/dist-packages/ipykernel_launcher.py:1: FutureWarning: Indexing with multiple keys (implicitly converted to a tuple of keys) will be deprecated, use a list instead.\n",
            "  \"\"\"Entry point for launching an IPython kernel.\n"
          ],
          "name": "stderr"
        }
      ]
    },
    {
      "cell_type": "code",
      "metadata": {
        "id": "6SnFvhQoJlgf"
      },
      "source": [
        "#df_anomes_price.drop(index='mes_n')\n",
        "df_anomes_price = df_anomes_price.reset_index(level=0, drop=True)"
      ],
      "execution_count": null,
      "outputs": []
    },
    {
      "cell_type": "code",
      "metadata": {
        "id": "yKpcJfIhiHzk",
        "colab": {
          "base_uri": "https://localhost:8080/",
          "height": 235
        },
        "outputId": "276d7504-2baa-4d49-8e45-1e9847357705"
      },
      "source": [
        "df_anomes_price"
      ],
      "execution_count": null,
      "outputs": [
        {
          "output_type": "execute_result",
          "data": {
            "text/html": [
              "<div>\n",
              "<style scoped>\n",
              "    .dataframe tbody tr th:only-of-type {\n",
              "        vertical-align: middle;\n",
              "    }\n",
              "\n",
              "    .dataframe tbody tr th {\n",
              "        vertical-align: top;\n",
              "    }\n",
              "\n",
              "    .dataframe thead th {\n",
              "        text-align: right;\n",
              "    }\n",
              "</style>\n",
              "<table border=\"1\" class=\"dataframe\">\n",
              "  <thead>\n",
              "    <tr style=\"text-align: right;\">\n",
              "      <th></th>\n",
              "      <th>price_2019</th>\n",
              "      <th>price_2020</th>\n",
              "    </tr>\n",
              "    <tr>\n",
              "      <th>mes</th>\n",
              "      <th></th>\n",
              "      <th></th>\n",
              "    </tr>\n",
              "  </thead>\n",
              "  <tbody>\n",
              "    <tr>\n",
              "      <th>Jan</th>\n",
              "      <td>357.773948</td>\n",
              "      <td>357.525503</td>\n",
              "    </tr>\n",
              "    <tr>\n",
              "      <th>Feb</th>\n",
              "      <td>358.408213</td>\n",
              "      <td>354.062024</td>\n",
              "    </tr>\n",
              "    <tr>\n",
              "      <th>Mar</th>\n",
              "      <td>356.501700</td>\n",
              "      <td>354.246546</td>\n",
              "    </tr>\n",
              "    <tr>\n",
              "      <th>Apr</th>\n",
              "      <td>353.518526</td>\n",
              "      <td>351.919952</td>\n",
              "    </tr>\n",
              "    <tr>\n",
              "      <th>May</th>\n",
              "      <td>353.273353</td>\n",
              "      <td>353.292507</td>\n",
              "    </tr>\n",
              "  </tbody>\n",
              "</table>\n",
              "</div>"
            ],
            "text/plain": [
              "     price_2019  price_2020\n",
              "mes                        \n",
              "Jan  357.773948  357.525503\n",
              "Feb  358.408213  354.062024\n",
              "Mar  356.501700  354.246546\n",
              "Apr  353.518526  351.919952\n",
              "May  353.273353  353.292507"
            ]
          },
          "metadata": {
            "tags": []
          },
          "execution_count": 137
        }
      ]
    },
    {
      "cell_type": "code",
      "metadata": {
        "id": "fn6OSjKAkQXM",
        "colab": {
          "base_uri": "https://localhost:8080/",
          "height": 306
        },
        "outputId": "7100c6b6-f4f0-4863-d6ef-1354d8771101"
      },
      "source": [
        "df_anomes_price.plot(kind='bar')\n",
        "plt.title('Preço (2019 X 2010)')\n",
        "plt.xlabel('Mês')\n",
        "plt.ylabel('Preço')\n",
        "plt.legend(('2019', '2020'))\n",
        "#plt.yticks(np.arange(369, 391, 5))\n",
        "plt.show()"
      ],
      "execution_count": null,
      "outputs": [
        {
          "output_type": "display_data",
          "data": {
            "image/png": "[encoded data removed]",
            "text/plain": [
              "<Figure size 432x288 with 1 Axes>"
            ]
          },
          "metadata": {
            "tags": [],
            "needs_background": "light"
          }
        }
      ]
    },
    {
      "cell_type": "code",
      "metadata": {
        "id": "_0KU51k95pEF",
        "colab": {
          "base_uri": "https://localhost:8080/",
          "height": 235
        },
        "outputId": "ed8e75eb-af66-43a4-d580-ef259697fdd5"
      },
      "source": [
        "df_percent = pd.DataFrame(((df_anomes_price.price_2020 - df_anomes_price.price_2019) / df_anomes_price.price_2019))\n",
        "df_percent.rename(columns={0: '%'}, inplace = True)\n",
        "df_percent"
      ],
      "execution_count": null,
      "outputs": [
        {
          "output_type": "execute_result",
          "data": {
            "text/html": [
              "<div>\n",
              "<style scoped>\n",
              "    .dataframe tbody tr th:only-of-type {\n",
              "        vertical-align: middle;\n",
              "    }\n",
              "\n",
              "    .dataframe tbody tr th {\n",
              "        vertical-align: top;\n",
              "    }\n",
              "\n",
              "    .dataframe thead th {\n",
              "        text-align: right;\n",
              "    }\n",
              "</style>\n",
              "<table border=\"1\" class=\"dataframe\">\n",
              "  <thead>\n",
              "    <tr style=\"text-align: right;\">\n",
              "      <th></th>\n",
              "      <th>%</th>\n",
              "    </tr>\n",
              "    <tr>\n",
              "      <th>mes</th>\n",
              "      <th></th>\n",
              "    </tr>\n",
              "  </thead>\n",
              "  <tbody>\n",
              "    <tr>\n",
              "      <th>Jan</th>\n",
              "      <td>-0.000694</td>\n",
              "    </tr>\n",
              "    <tr>\n",
              "      <th>Feb</th>\n",
              "      <td>-0.012126</td>\n",
              "    </tr>\n",
              "    <tr>\n",
              "      <th>Mar</th>\n",
              "      <td>-0.006326</td>\n",
              "    </tr>\n",
              "    <tr>\n",
              "      <th>Apr</th>\n",
              "      <td>-0.004522</td>\n",
              "    </tr>\n",
              "    <tr>\n",
              "      <th>May</th>\n",
              "      <td>0.000054</td>\n",
              "    </tr>\n",
              "  </tbody>\n",
              "</table>\n",
              "</div>"
            ],
            "text/plain": [
              "            %\n",
              "mes          \n",
              "Jan -0.000694\n",
              "Feb -0.012126\n",
              "Mar -0.006326\n",
              "Apr -0.004522\n",
              "May  0.000054"
            ]
          },
          "metadata": {
            "tags": []
          },
          "execution_count": 139
        }
      ]
    },
    {
      "cell_type": "code",
      "metadata": {
        "id": "xRGR9AG1gVDN",
        "colab": {
          "base_uri": "https://localhost:8080/",
          "height": 295
        },
        "outputId": "95e65fcc-d1ef-4fcb-92ef-64b0e0bea773"
      },
      "source": [
        "df_percent.plot()\n",
        "plt.title('Percentual de redução dos preços por mês')\n",
        "plt.xlabel('Mês')\n",
        "plt.ylabel('Percentual')\n",
        "plt.show()"
      ],
      "execution_count": null,
      "outputs": [
        {
          "output_type": "display_data",
          "data": {
            "image/png": "[encoded data removed]",
            "text/plain": [
              "<Figure size 432x288 with 1 Axes>"
            ]
          },
          "metadata": {
            "tags": [],
            "needs_background": "light"
          }
        }
      ]
    },
    {
      "cell_type": "markdown",
      "metadata": {
        "id": "E_RdHQZ7k2bO"
      },
      "source": [
        "Observando os dois gráficos e o percentual de diferença entre os anos podemos notar que não ocorreu uma diminuição considerável dos preços como eu havia cogitado. No mês de maio, inclusive, chega a ter preços maiores em comparação com maio do ano passado."
      ]
    },
    {
      "cell_type": "markdown",
      "metadata": {
        "id": "GkvAg623RjoR"
      },
      "source": [
        "## Conclusão <a name=\"paragraph3\"></a>  ([&uArr;](#sumario))\n",
        "\n",
        "Foi feita apenas uma análise superficial na base de dados do Airbnb, porém já se percebeu que existem *outliers* em algumas das variáveis. \n",
        "\n",
        "Também se notou que em algumas localidades há poucos imóveis disponíveis, o que pode distorcer as informações estatísticas de alguns atributos.\n",
        "\n",
        "A hipótese de que os preços dos imóveis nos períodos comparados poriam ter abaixado devido a pandemia, não se confirmou.\n",
        "\n",
        "Por fim, lembra-se que este *dataset* é uma versão resumida, ideal apenas para uma abordagem inicial. Recomenda-se que seja usado, em uma próxima análise exploratória, o conjunto de dados completos."
      ]
    }
  ]
}